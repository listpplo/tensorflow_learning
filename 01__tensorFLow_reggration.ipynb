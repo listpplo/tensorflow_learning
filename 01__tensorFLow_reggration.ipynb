{
  "cells": [
    {
      "cell_type": "markdown",
      "metadata": {
        "id": "view-in-github",
        "colab_type": "text"
      },
      "source": [
        "<a href=\"https://colab.research.google.com/github/listpplo/tensorflow_learning/blob/main/01__tensorFLow_reggration.ipynb\" target=\"_parent\"><img src=\"https://colab.research.google.com/assets/colab-badge.svg\" alt=\"Open In Colab\"/></a>"
      ]
    },
    {
      "cell_type": "markdown",
      "metadata": {
        "id": "za1tObb1yDxJ"
      },
      "source": [
        "## **Neural Network Regression with TensorFlow**"
      ]
    },
    {
      "cell_type": "code",
      "execution_count": null,
      "metadata": {
        "id": "JZ8AvgwsyDxL"
      },
      "outputs": [],
      "source": [
        "    \"\"\"import tensorflow\"\"\"\n",
        "    import tensorflow as tf"
      ]
    },
    {
      "cell_type": "code",
      "execution_count": null,
      "metadata": {
        "colab": {
          "base_uri": "https://localhost:8080/"
        },
        "id": "risgiMHryDxM",
        "outputId": "fd4d7d3b-e1e4-42c7-a4b5-364b3deb7940"
      },
      "outputs": [
        {
          "name": "stdout",
          "output_type": "stream",
          "text": [
            "tf.Tensor(\n",
            "[[0.2958901  0.648312   0.09882522]\n",
            " [0.6331359  0.9217684  0.6511483 ]], shape=(2, 3), dtype=float32)\n",
            "tf.Tensor(\n",
            "[[0.51106966 0.30130255 0.12281215]\n",
            " [0.26824522 0.0577774  0.64826405]], shape=(2, 3), dtype=float32)\n"
          ]
        }
      ],
      "source": [
        "# Setiing the seed makes the tensor generation predictable\n",
        "tf.random.set_seed(43)\n",
        "print(tf.random.uniform(shape = (2,3),seed = 23))\n",
        "print(tf.random.uniform(shape = (2,3),seed =23))     \n"
      ]
    },
    {
      "cell_type": "markdown",
      "metadata": {
        "id": "kdZuVmk1yDxN"
      },
      "source": [
        "> Regression means simply prediciting the number\n",
        "\n",
        "> Regression : A regression is a statistical technique that relates a dependent variable to one or more independent (explanatory) variables."
      ]
    },
    {
      "cell_type": "markdown",
      "metadata": {
        "id": "l2rHRWz-yDxN"
      },
      "source": [
        "input_features --> Machine Learning Algorithm --> Output_Features"
      ]
    },
    {
      "cell_type": "markdown",
      "metadata": {
        "id": "7iR6tiQqyDxO"
      },
      "source": [
        "Determining the price of the house for the given data\n",
        "\n",
        "\n",
        "For Input_Features = [ BedRooms , BathRooms , Garages]     ---> Shape = 3\n",
        "\n",
        "\n",
        "For Output_Features = [Price]                              ---> Shape = 1\n"
      ]
    },
    {
      "cell_type": "markdown",
      "metadata": {
        "id": "qAhrsAXXyDxO"
      },
      "source": [
        "# Anantomy of Neural Network"
      ]
    },
    {
      "cell_type": "markdown",
      "metadata": {
        "id": "gd51Fa-RyDxO"
      },
      "source": [
        "Input_Features  ---> *Input_Layers* (Data gets input here) ---> *Hidden Layers* (Learns patterns in the the data) ---> *Output layer* (Output learned representation or predicition probability)\n"
      ]
    },
    {
      "cell_type": "markdown",
      "metadata": {
        "id": "wYvLVAH5yDxO"
      },
      "source": [
        "# Crating a Regression data for our project"
      ]
    },
    {
      "cell_type": "markdown",
      "metadata": {
        "id": "c13ID7XbyDxO"
      },
      "source": [
        "> **Introduction to Regression with Neural network in TensorFLow**\n",
        "\n",
        "Trying to predict the numerical values based on some other combination of variables."
      ]
    },
    {
      "cell_type": "code",
      "execution_count": null,
      "metadata": {
        "colab": {
          "base_uri": "https://localhost:8080/"
        },
        "id": "Bm0jXk9RyDxO",
        "outputId": "66ad9dd0-61c7-4a53-edff-9aa8c781e506"
      },
      "outputs": [
        {
          "name": "stdout",
          "output_type": "stream",
          "text": [
            "2.9.2\n"
          ]
        }
      ],
      "source": [
        "# checking the version of TensorFLow \n",
        "print(tf.__version__)"
      ]
    },
    {
      "cell_type": "code",
      "execution_count": null,
      "metadata": {
        "colab": {
          "base_uri": "https://localhost:8080/",
          "height": 301
        },
        "id": "gI5uPG-byDxP",
        "outputId": "e88fff34-34e4-478b-fbf0-e2df539e14c3"
      },
      "outputs": [
        {
          "name": "stdout",
          "output_type": "stream",
          "text": [
            "13\n",
            "13\n"
          ]
        },
        {
          "data": {
            "image/png": "[encoded data removed]",
            "text/plain": [
              "<Figure size 432x288 with 1 Axes>"
            ]
          },
          "metadata": {},
          "output_type": "display_data"
        }
      ],
      "source": [
        "import numpy as np\n",
        "import matplotlib.pyplot as plt\n",
        "\n",
        "# Creating features \n",
        "X = np.array([7,6,6,5,4,3,4,5,6,7,8,9,10])\n",
        "\n",
        "print(len(X))\n",
        "\n",
        "# Creating labels\n",
        "Y = np.array([1,2,3,4,5,6,7,8,9,10,11,12,13])\n",
        "\n",
        "print(len(Y))\n",
        "\n",
        "# ploting X and Y\n",
        "plt.scatter(X,Y);"
      ]
    },
    {
      "cell_type": "markdown",
      "metadata": {
        "id": "3_JA0fNsyDxP"
      },
      "source": [
        "> **Input and Output shapes**"
      ]
    },
    {
      "cell_type": "code",
      "execution_count": null,
      "metadata": {
        "colab": {
          "background_save": true,
          "base_uri": "https://localhost:8080/"
        },
        "id": "QKSRWiCzyDxP",
        "outputId": "ed8f9f84-bba2-4de1-e8bf-562270584bc7"
      },
      "outputs": [
        {
          "data": {
            "text/plain": [
              "(<tf.Tensor: shape=(3,), dtype=string, numpy=array([b'bedRoom', b'BathRoom', b'garage'], dtype=object)>,\n",
              " <tf.Tensor: shape=(1,), dtype=int32, numpy=array([939700], dtype=int32)>)"
            ]
          },
          "execution_count": 3,
          "metadata": {},
          "output_type": "execute_result"
        }
      ],
      "source": [
        "# create a demo tensor for our house price prediction problem \n",
        "\n",
        "house_info = tf.constant([\"bedRoom\",\"BathRoom\",\"garage\"])\n",
        "house_price = tf.constant([939700])\n",
        "house_info,house_price"
      ]
    },
    {
      "cell_type": "code",
      "execution_count": null,
      "metadata": {
        "colab": {
          "base_uri": "https://localhost:8080/"
        },
        "id": "gCOfHbgryDxQ",
        "outputId": "6ba2d4c9-7a66-43b2-a293-f24dac69ce44"
      },
      "outputs": [
        {
          "data": {
            "text/plain": [
              "((13,), (13,))"
            ]
          },
          "execution_count": 6,
          "metadata": {},
          "output_type": "execute_result"
        }
      ],
      "source": [
        "Input_Shape = X.shape\n",
        "Output_Shape = Y.shape\n",
        "\n",
        "Input_Shape, Output_Shape"
      ]
    },
    {
      "cell_type": "markdown",
      "metadata": {
        "id": "CTkgLihTyDxQ"
      },
      "source": [
        "> For this problem we are looking for scaler i.e. 0 dimensional tensor"
      ]
    },
    {
      "cell_type": "code",
      "execution_count": null,
      "metadata": {
        "colab": {
          "base_uri": "https://localhost:8080/"
        },
        "id": "FAytBoWxyDxQ",
        "outputId": "9f65efad-0d7b-4f56-a496-f80f0cbfccc3"
      },
      "outputs": [
        {
          "data": {
            "text/plain": [
              "(<tf.Tensor: shape=(13,), dtype=int64, numpy=array([ 7,  6,  6,  5,  4,  3,  4,  5,  6,  7,  8,  9, 10])>,\n",
              " <tf.Tensor: shape=(13,), dtype=int64, numpy=array([ 1,  2,  3,  4,  5,  6,  7,  8,  9, 10, 11, 12, 13])>)"
            ]
          },
          "execution_count": 7,
          "metadata": {},
          "output_type": "execute_result"
        }
      ],
      "source": [
        "# Turning the numpy arrays into tensors\n",
        "\n",
        "X = tf.constant(X)\n",
        "Y = tf.constant(Y)\n",
        "\n",
        "X,Y"
      ]
    },
    {
      "cell_type": "markdown",
      "metadata": {
        "id": "J037vOsMyDxQ"
      },
      "source": [
        "### Steps in modelling in tensorflow\n",
        "\n",
        "1. Creating a model --> Defining the input, Output and hidden layers in deep learning model.\n",
        "\n",
        "2. Compiling a model --> defining a **loss function**(How accurate our model is),a **optimizer**(tells out model how to impeove the learning patterns) and a **evualtion metrics**(How we can inteprete the performanace of our model).\n",
        "\n",
        "3. FItting the model --> letting the model try to find patterns between X and Y(Features and lab)"
      ]
    },
    {
      "cell_type": "markdown",
      "metadata": {
        "id": "C7DfYAv0yDxQ"
      },
      "source": [
        "> When We create the model we always compile it."
      ]
    },
    {
      "cell_type": "code",
      "execution_count": null,
      "metadata": {
        "colab": {
          "base_uri": "https://localhost:8080/"
        },
        "id": "Dayqom5vyDxQ",
        "outputId": "6f8cd1ac-602f-41f4-c771-5e4c85153972"
      },
      "outputs": [
        {
          "name": "stdout",
          "output_type": "stream",
          "text": [
            "Epoch 1/10\n",
            "1/1 [==============================] - 1s 555ms/step - loss: 4.2352 - mae: 4.2352\n",
            "Epoch 2/10\n",
            "1/1 [==============================] - 0s 17ms/step - loss: 4.1279 - mae: 4.1279\n",
            "Epoch 3/10\n",
            "1/1 [==============================] - 0s 13ms/step - loss: 4.0206 - mae: 4.0206\n",
            "Epoch 4/10\n",
            "1/1 [==============================] - 0s 7ms/step - loss: 3.9134 - mae: 3.9134\n",
            "Epoch 5/10\n",
            "1/1 [==============================] - 0s 8ms/step - loss: 3.8061 - mae: 3.8061\n",
            "Epoch 6/10\n",
            "1/1 [==============================] - 0s 10ms/step - loss: 3.6988 - mae: 3.6988\n",
            "Epoch 7/10\n",
            "1/1 [==============================] - 0s 8ms/step - loss: 3.5915 - mae: 3.5915\n",
            "Epoch 8/10\n",
            "1/1 [==============================] - 0s 15ms/step - loss: 3.4871 - mae: 3.4871\n",
            "Epoch 9/10\n",
            "1/1 [==============================] - 0s 9ms/step - loss: 3.4251 - mae: 3.4251\n",
            "Epoch 10/10\n",
            "1/1 [==============================] - 0s 16ms/step - loss: 3.3630 - mae: 3.3630\n"
          ]
        },
        {
          "data": {
            "text/plain": [
              "<keras.callbacks.History at 0x7fd625a530a0>"
            ]
          },
          "execution_count": 8,
          "metadata": {},
          "output_type": "execute_result"
        }
      ],
      "source": [
        "# Setting the random seed \n",
        "tf.random.set_seed(42)\n",
        "\n",
        "#1. creating the model using TensorFlow\n",
        "model = tf.keras.Sequential([\n",
        "    tf.keras.layers.Dense(1)   # Dense function gives the number of neurons in the layer\n",
        "\n",
        "])\n",
        "\n",
        "#2. compiling the model\n",
        "model.compile(loss =tf.keras.losses.mae,    # mae  --> Mean absolute error\n",
        "              optimizer = tf.keras.optimizers.SGD(),\n",
        "              metrics = [\"mae\"])\n",
        "\n",
        "#3. Fit the model\n",
        "\n",
        "model.fit(tf.expand_dims(X,axis = -1),Y, epochs = 10)"
      ]
    },
    {
      "cell_type": "code",
      "execution_count": null,
      "metadata": {
        "colab": {
          "base_uri": "https://localhost:8080/"
        },
        "id": "YPhQKhwk10dh",
        "outputId": "6a698327-743e-4bcb-cb5c-dcf79e0ed1b3"
      },
      "outputs": [
        {
          "data": {
            "text/plain": [
              "(<tf.Tensor: shape=(13,), dtype=int64, numpy=array([ 7,  6,  6,  5,  4,  3,  4,  5,  6,  7,  8,  9, 10])>,\n",
              " <tf.Tensor: shape=(13,), dtype=int64, numpy=array([ 1,  2,  3,  4,  5,  6,  7,  8,  9, 10, 11, 12, 13])>)"
            ]
          },
          "execution_count": 9,
          "metadata": {},
          "output_type": "execute_result"
        }
      ],
      "source": [
        "# Checking X and Y\n",
        "X, Y"
      ]
    },
    {
      "cell_type": "code",
      "execution_count": null,
      "metadata": {
        "colab": {
          "base_uri": "https://localhost:8080/"
        },
        "id": "SkrF5mKU0ovC",
        "outputId": "67a74c3b-07a0-4a60-cf77-a794eef3cff7"
      },
      "outputs": [
        {
          "name": "stdout",
          "output_type": "stream",
          "text": [
            "1/1 [==============================] - 0s 109ms/step\n"
          ]
        },
        {
          "data": {
            "text/plain": [
              "array([[8.749829]], dtype=float32)"
            ]
          },
          "execution_count": 10,
          "metadata": {},
          "output_type": "execute_result"
        }
      ],
      "source": [
        "# try and predict with our model\n",
        "y_pred = model.predict([10])\n",
        "y_pred\n",
        "\n",
        "# The value we get are far off from the data "
      ]
    },
    {
      "cell_type": "markdown",
      "metadata": {
        "id": "x8RV3RED2Edh"
      },
      "source": [
        "# Improving Our model\n",
        "\n",
        "We can improve our model by :  \n",
        "1. **Creating a model** -->  add more layers , increasing the number of hidden units(all called neurons) within each of the hidden layers, change activation of each layers. \n",
        "\n",
        "2. **Compiling the model** --> We can change the optimizing function or perhaps the **learning rate** of the optimizing stage.\n",
        "\n",
        "3. **Fitting the model** --> We can make make the model train for longer or give the model more data to train upon."
      ]
    },
    {
      "cell_type": "markdown",
      "metadata": {
        "id": "AuBZxza72uAO"
      },
      "source": [
        "Metrices --> Humar interperatble model representing that how weel the model is doing. \n",
        "\n",
        "Epochs --> how may times the model will go through the traning.\n",
        "\n",
        "Loss --> How wrong the model predictions are compared to the truth tables(Lower the better)."
      ]
    },
    {
      "cell_type": "markdown",
      "metadata": {
        "id": "OrKcWBxg3nlP"
      },
      "source": [
        "> We define a smaller model to make sure that our data works, This will help us to save time before going to a laregr model.\n"
      ]
    },
    {
      "cell_type": "code",
      "execution_count": null,
      "metadata": {
        "colab": {
          "base_uri": "https://localhost:8080/"
        },
        "id": "dkdm4NiR6iEO",
        "outputId": "c2de2aaa-a430-473d-d195-f5e3713a8210"
      },
      "outputs": [
        {
          "name": "stdout",
          "output_type": "stream",
          "text": [
            "Epoch 1/100\n",
            "1/1 [==============================] - 1s 537ms/step - loss: 3.9741 - mae: 3.9741\n",
            "Epoch 2/100\n",
            "1/1 [==============================] - 0s 9ms/step - loss: 3.8668 - mae: 3.8668\n",
            "Epoch 3/100\n",
            "1/1 [==============================] - 0s 10ms/step - loss: 3.7595 - mae: 3.7595\n",
            "Epoch 4/100\n",
            "1/1 [==============================] - 0s 12ms/step - loss: 3.6523 - mae: 3.6523\n",
            "Epoch 5/100\n",
            "1/1 [==============================] - 0s 8ms/step - loss: 3.5450 - mae: 3.5450\n",
            "Epoch 6/100\n",
            "1/1 [==============================] - 0s 8ms/step - loss: 3.4514 - mae: 3.4514\n",
            "Epoch 7/100\n",
            "1/1 [==============================] - 0s 7ms/step - loss: 3.3893 - mae: 3.3893\n",
            "Epoch 8/100\n",
            "1/1 [==============================] - 0s 9ms/step - loss: 3.3273 - mae: 3.3273\n",
            "Epoch 9/100\n",
            "1/1 [==============================] - 0s 7ms/step - loss: 3.2652 - mae: 3.2652\n",
            "Epoch 10/100\n",
            "1/1 [==============================] - 0s 10ms/step - loss: 3.2031 - mae: 3.2031\n",
            "Epoch 11/100\n",
            "1/1 [==============================] - 0s 7ms/step - loss: 3.1410 - mae: 3.1410\n",
            "Epoch 12/100\n",
            "1/1 [==============================] - 0s 7ms/step - loss: 3.0790 - mae: 3.0790\n",
            "Epoch 13/100\n",
            "1/1 [==============================] - 0s 7ms/step - loss: 3.0169 - mae: 3.0169\n",
            "Epoch 14/100\n",
            "1/1 [==============================] - 0s 7ms/step - loss: 2.9548 - mae: 2.9548\n",
            "Epoch 15/100\n",
            "1/1 [==============================] - 0s 7ms/step - loss: 2.8928 - mae: 2.8928\n",
            "Epoch 16/100\n",
            "1/1 [==============================] - 0s 7ms/step - loss: 2.8307 - mae: 2.8307\n",
            "Epoch 17/100\n",
            "1/1 [==============================] - 0s 7ms/step - loss: 2.7686 - mae: 2.7686\n",
            "Epoch 18/100\n",
            "1/1 [==============================] - 0s 7ms/step - loss: 2.7065 - mae: 2.7065\n",
            "Epoch 19/100\n",
            "1/1 [==============================] - 0s 7ms/step - loss: 2.6445 - mae: 2.6445\n",
            "Epoch 20/100\n",
            "1/1 [==============================] - 0s 8ms/step - loss: 2.5824 - mae: 2.5824\n",
            "Epoch 21/100\n",
            "1/1 [==============================] - 0s 8ms/step - loss: 2.5203 - mae: 2.5203\n",
            "Epoch 22/100\n",
            "1/1 [==============================] - 0s 7ms/step - loss: 2.4583 - mae: 2.4583\n",
            "Epoch 23/100\n",
            "1/1 [==============================] - 0s 7ms/step - loss: 2.3986 - mae: 2.3986\n",
            "Epoch 24/100\n",
            "1/1 [==============================] - 0s 9ms/step - loss: 2.3640 - mae: 2.3640\n",
            "Epoch 25/100\n",
            "1/1 [==============================] - 0s 7ms/step - loss: 2.3294 - mae: 2.3294\n",
            "Epoch 26/100\n",
            "1/1 [==============================] - 0s 15ms/step - loss: 2.2948 - mae: 2.2948\n",
            "Epoch 27/100\n",
            "1/1 [==============================] - 0s 8ms/step - loss: 2.2830 - mae: 2.2830\n",
            "Epoch 28/100\n",
            "1/1 [==============================] - 0s 7ms/step - loss: 2.2820 - mae: 2.2820\n",
            "Epoch 29/100\n",
            "1/1 [==============================] - 0s 7ms/step - loss: 2.2810 - mae: 2.2810\n",
            "Epoch 30/100\n",
            "1/1 [==============================] - 0s 7ms/step - loss: 2.2800 - mae: 2.2800\n",
            "Epoch 31/100\n",
            "1/1 [==============================] - 0s 8ms/step - loss: 2.2790 - mae: 2.2790\n",
            "Epoch 32/100\n",
            "1/1 [==============================] - 0s 8ms/step - loss: 2.2780 - mae: 2.2780\n",
            "Epoch 33/100\n",
            "1/1 [==============================] - 0s 8ms/step - loss: 2.2793 - mae: 2.2793\n",
            "Epoch 34/100\n",
            "1/1 [==============================] - 0s 8ms/step - loss: 2.2804 - mae: 2.2804\n",
            "Epoch 35/100\n",
            "1/1 [==============================] - 0s 12ms/step - loss: 2.2794 - mae: 2.2794\n",
            "Epoch 36/100\n",
            "1/1 [==============================] - 0s 8ms/step - loss: 2.2784 - mae: 2.2784\n",
            "Epoch 37/100\n",
            "1/1 [==============================] - 0s 9ms/step - loss: 2.2777 - mae: 2.2777\n",
            "Epoch 38/100\n",
            "1/1 [==============================] - 0s 8ms/step - loss: 2.2807 - mae: 2.2807\n",
            "Epoch 39/100\n",
            "1/1 [==============================] - 0s 9ms/step - loss: 2.2797 - mae: 2.2797\n",
            "Epoch 40/100\n",
            "1/1 [==============================] - 0s 9ms/step - loss: 2.2787 - mae: 2.2787\n",
            "Epoch 41/100\n",
            "1/1 [==============================] - 0s 9ms/step - loss: 2.2777 - mae: 2.2777\n",
            "Epoch 42/100\n",
            "1/1 [==============================] - 0s 10ms/step - loss: 2.2796 - mae: 2.2796\n",
            "Epoch 43/100\n",
            "1/1 [==============================] - 0s 12ms/step - loss: 2.2801 - mae: 2.2801\n",
            "Epoch 44/100\n",
            "1/1 [==============================] - 0s 8ms/step - loss: 2.2791 - mae: 2.2791\n",
            "Epoch 45/100\n",
            "1/1 [==============================] - 0s 8ms/step - loss: 2.2781 - mae: 2.2781\n",
            "Epoch 46/100\n",
            "1/1 [==============================] - 0s 9ms/step - loss: 2.2780 - mae: 2.2780\n",
            "Epoch 47/100\n",
            "1/1 [==============================] - 0s 10ms/step - loss: 2.2804 - mae: 2.2804\n",
            "Epoch 48/100\n",
            "1/1 [==============================] - 0s 9ms/step - loss: 2.2794 - mae: 2.2794\n",
            "Epoch 49/100\n",
            "1/1 [==============================] - 0s 9ms/step - loss: 2.2784 - mae: 2.2784\n",
            "Epoch 50/100\n",
            "1/1 [==============================] - 0s 10ms/step - loss: 2.2774 - mae: 2.2774\n",
            "Epoch 51/100\n",
            "1/1 [==============================] - 0s 9ms/step - loss: 2.2799 - mae: 2.2799\n",
            "Epoch 52/100\n",
            "1/1 [==============================] - 0s 7ms/step - loss: 2.2798 - mae: 2.2798\n",
            "Epoch 53/100\n",
            "1/1 [==============================] - 0s 8ms/step - loss: 2.2788 - mae: 2.2788\n",
            "Epoch 54/100\n",
            "1/1 [==============================] - 0s 8ms/step - loss: 2.2778 - mae: 2.2778\n",
            "Epoch 55/100\n",
            "1/1 [==============================] - 0s 9ms/step - loss: 2.2783 - mae: 2.2783\n",
            "Epoch 56/100\n",
            "1/1 [==============================] - 0s 9ms/step - loss: 2.2801 - mae: 2.2801\n",
            "Epoch 57/100\n",
            "1/1 [==============================] - 0s 11ms/step - loss: 2.2791 - mae: 2.2791\n",
            "Epoch 58/100\n",
            "1/1 [==============================] - 0s 9ms/step - loss: 2.2781 - mae: 2.2781\n",
            "Epoch 59/100\n",
            "1/1 [==============================] - 0s 9ms/step - loss: 2.2771 - mae: 2.2771\n",
            "Epoch 60/100\n",
            "1/1 [==============================] - 0s 8ms/step - loss: 2.2802 - mae: 2.2802\n",
            "Epoch 61/100\n",
            "1/1 [==============================] - 0s 9ms/step - loss: 2.2795 - mae: 2.2795\n",
            "Epoch 62/100\n",
            "1/1 [==============================] - 0s 12ms/step - loss: 2.2785 - mae: 2.2785\n",
            "Epoch 63/100\n",
            "1/1 [==============================] - 0s 12ms/step - loss: 2.2775 - mae: 2.2775\n",
            "Epoch 64/100\n",
            "1/1 [==============================] - 0s 8ms/step - loss: 2.2786 - mae: 2.2786\n",
            "Epoch 65/100\n",
            "1/1 [==============================] - 0s 8ms/step - loss: 2.2798 - mae: 2.2798\n",
            "Epoch 66/100\n",
            "1/1 [==============================] - 0s 8ms/step - loss: 2.2788 - mae: 2.2788\n",
            "Epoch 67/100\n",
            "1/1 [==============================] - 0s 8ms/step - loss: 2.2778 - mae: 2.2778\n",
            "Epoch 68/100\n",
            "1/1 [==============================] - 0s 18ms/step - loss: 2.2771 - mae: 2.2771\n",
            "Epoch 69/100\n",
            "1/1 [==============================] - 0s 12ms/step - loss: 2.2802 - mae: 2.2802\n",
            "Epoch 70/100\n",
            "1/1 [==============================] - 0s 52ms/step - loss: 2.2792 - mae: 2.2792\n",
            "Epoch 71/100\n",
            "1/1 [==============================] - 0s 11ms/step - loss: 2.2782 - mae: 2.2782\n",
            "Epoch 72/100\n",
            "1/1 [==============================] - 0s 10ms/step - loss: 2.2772 - mae: 2.2772\n",
            "Epoch 73/100\n",
            "1/1 [==============================] - 0s 15ms/step - loss: 2.2789 - mae: 2.2789\n",
            "Epoch 74/100\n",
            "1/1 [==============================] - 0s 14ms/step - loss: 2.2796 - mae: 2.2796\n",
            "Epoch 75/100\n",
            "1/1 [==============================] - 0s 10ms/step - loss: 2.2785 - mae: 2.2785\n",
            "Epoch 76/100\n",
            "1/1 [==============================] - 0s 13ms/step - loss: 2.2775 - mae: 2.2775\n",
            "Epoch 77/100\n",
            "1/1 [==============================] - 0s 9ms/step - loss: 2.2774 - mae: 2.2774\n",
            "Epoch 78/100\n",
            "1/1 [==============================] - 0s 7ms/step - loss: 2.2799 - mae: 2.2799\n",
            "Epoch 79/100\n",
            "1/1 [==============================] - 0s 18ms/step - loss: 2.2789 - mae: 2.2789\n",
            "Epoch 80/100\n",
            "1/1 [==============================] - 0s 7ms/step - loss: 2.2779 - mae: 2.2779\n",
            "Epoch 81/100\n",
            "1/1 [==============================] - 0s 8ms/step - loss: 2.2769 - mae: 2.2769\n",
            "Epoch 82/100\n",
            "1/1 [==============================] - 0s 7ms/step - loss: 2.2792 - mae: 2.2792\n",
            "Epoch 83/100\n",
            "1/1 [==============================] - 0s 8ms/step - loss: 2.2793 - mae: 2.2793\n",
            "Epoch 84/100\n",
            "1/1 [==============================] - 0s 11ms/step - loss: 2.2783 - mae: 2.2783\n",
            "Epoch 85/100\n",
            "1/1 [==============================] - 0s 7ms/step - loss: 2.2772 - mae: 2.2772\n",
            "Epoch 86/100\n",
            "1/1 [==============================] - 0s 6ms/step - loss: 2.2777 - mae: 2.2777\n",
            "Epoch 87/100\n",
            "1/1 [==============================] - 0s 7ms/step - loss: 2.2796 - mae: 2.2796\n",
            "Epoch 88/100\n",
            "1/1 [==============================] - 0s 7ms/step - loss: 2.2786 - mae: 2.2786\n",
            "Epoch 89/100\n",
            "1/1 [==============================] - 0s 11ms/step - loss: 2.2776 - mae: 2.2776\n",
            "Epoch 90/100\n",
            "1/1 [==============================] - 0s 7ms/step - loss: 2.2766 - mae: 2.2766\n",
            "Epoch 91/100\n",
            "1/1 [==============================] - 0s 7ms/step - loss: 2.2795 - mae: 2.2795\n",
            "Epoch 92/100\n",
            "1/1 [==============================] - 0s 10ms/step - loss: 2.2790 - mae: 2.2790\n",
            "Epoch 93/100\n",
            "1/1 [==============================] - 0s 6ms/step - loss: 2.2780 - mae: 2.2780\n",
            "Epoch 94/100\n",
            "1/1 [==============================] - 0s 7ms/step - loss: 2.2769 - mae: 2.2769\n",
            "Epoch 95/100\n",
            "1/1 [==============================] - 0s 8ms/step - loss: 2.2780 - mae: 2.2780\n",
            "Epoch 96/100\n",
            "1/1 [==============================] - 0s 10ms/step - loss: 2.2793 - mae: 2.2793\n",
            "Epoch 97/100\n",
            "1/1 [==============================] - 0s 7ms/step - loss: 2.2783 - mae: 2.2783\n",
            "Epoch 98/100\n",
            "1/1 [==============================] - 0s 6ms/step - loss: 2.2773 - mae: 2.2773\n",
            "Epoch 99/100\n",
            "1/1 [==============================] - 0s 6ms/step - loss: 2.2764 - mae: 2.2764\n",
            "Epoch 100/100\n",
            "1/1 [==============================] - 0s 6ms/step - loss: 2.2797 - mae: 2.2797\n"
          ]
        },
        {
          "data": {
            "text/plain": [
              "<keras.callbacks.History at 0x7fd6259d9c70>"
            ]
          },
          "execution_count": 11,
          "metadata": {},
          "output_type": "execute_result"
        }
      ],
      "source": [
        "# Let's Rebuid our model\n",
        "\n",
        "# 1. create the model\n",
        "model = tf.keras.Sequential([\n",
        "    tf.keras.layers.Dense(1)\n",
        "])\n",
        "\n",
        "# 2. Compiling the model\n",
        "model.compile(loss = \"mae\",\n",
        "              optimizer = tf.keras.optimizers.SGD(),\n",
        "              metrics = [\"mae\"])\n",
        "\n",
        "# 3. fitting the model\n",
        "\n",
        "model.fit(tf.expand_dims(X, -1),Y, epochs = 100)"
      ]
    },
    {
      "cell_type": "markdown",
      "metadata": {
        "id": "bkR9jqZUo-51"
      },
      "source": [
        "> Just changing the epochs we have improved the accuracy of the model.\n",
        "\n",
        ">previous loss = 6.475 --> current loss = 2.27"
      ]
    },
    {
      "cell_type": "code",
      "execution_count": null,
      "metadata": {
        "colab": {
          "base_uri": "https://localhost:8080/"
        },
        "id": "ZIee27XG8tio",
        "outputId": "25e8488e-d533-421b-91fc-68c1ceeedb8d"
      },
      "outputs": [
        {
          "data": {
            "text/plain": [
              "(<tf.Tensor: shape=(13,), dtype=int64, numpy=array([ 7,  6,  6,  5,  4,  3,  4,  5,  6,  7,  8,  9, 10])>,\n",
              " <tf.Tensor: shape=(13,), dtype=int64, numpy=array([ 1,  2,  3,  4,  5,  6,  7,  8,  9, 10, 11, 12, 13])>)"
            ]
          },
          "execution_count": 12,
          "metadata": {},
          "output_type": "execute_result"
        }
      ],
      "source": [
        "# The data I provided \n",
        "\n",
        "X, Y"
      ]
    },
    {
      "cell_type": "code",
      "execution_count": null,
      "metadata": {
        "colab": {
          "base_uri": "https://localhost:8080/"
        },
        "id": "b3bPU6Ij6yL8",
        "outputId": "1672f820-8058-4eda-f184-56fcfe22f63e"
      },
      "outputs": [
        {
          "name": "stdout",
          "output_type": "stream",
          "text": [
            "1/1 [==============================] - 0s 69ms/step\n"
          ]
        },
        {
          "data": {
            "text/plain": [
              "array([[4.0664673]], dtype=float32)"
            ]
          },
          "execution_count": 13,
          "metadata": {},
          "output_type": "execute_result"
        }
      ],
      "source": [
        "model.predict([3])"
      ]
    },
    {
      "cell_type": "markdown",
      "metadata": {
        "id": "jFZ7EUFC8cI3"
      },
      "source": [
        ">The system returns the value which is just equal to the current value minus the error "
      ]
    },
    {
      "cell_type": "markdown",
      "metadata": {
        "id": "ZTfcDpQjqCbo"
      },
      "source": [
        "> **Now we can see the effect of changing the number of neurons inside the neural network**"
      ]
    },
    {
      "cell_type": "code",
      "execution_count": null,
      "metadata": {
        "colab": {
          "base_uri": "https://localhost:8080/"
        },
        "id": "15N8-DwIqjwa",
        "outputId": "1e773f8d-9419-4df7-b51d-d79dff913d3d"
      },
      "outputs": [
        {
          "name": "stdout",
          "output_type": "stream",
          "text": [
            "Epoch 1/100\n"
          ]
        },
        {
          "name": "stderr",
          "output_type": "stream",
          "text": [
            "/usr/local/lib/python3.8/dist-packages/keras/optimizers/optimizer_v2/gradient_descent.py:108: UserWarning: The `lr` argument is deprecated, use `learning_rate` instead.\n",
            "  super(SGD, self).__init__(name, **kwargs)\n"
          ]
        },
        {
          "name": "stdout",
          "output_type": "stream",
          "text": [
            "1/1 [==============================] - 0s 385ms/step - loss: 3.4034 - mae: 3.4034\n",
            "Epoch 2/100\n",
            "1/1 [==============================] - 0s 8ms/step - loss: 3.3413 - mae: 3.3413\n",
            "Epoch 3/100\n",
            "1/1 [==============================] - 0s 7ms/step - loss: 3.2792 - mae: 3.2792\n",
            "Epoch 4/100\n",
            "1/1 [==============================] - 0s 13ms/step - loss: 3.2172 - mae: 3.2172\n",
            "Epoch 5/100\n",
            "1/1 [==============================] - 0s 13ms/step - loss: 3.1551 - mae: 3.1551\n",
            "Epoch 6/100\n",
            "1/1 [==============================] - 0s 11ms/step - loss: 3.0930 - mae: 3.0930\n",
            "Epoch 7/100\n",
            "1/1 [==============================] - 0s 15ms/step - loss: 3.0310 - mae: 3.0310\n",
            "Epoch 8/100\n",
            "1/1 [==============================] - 0s 12ms/step - loss: 2.9689 - mae: 2.9689\n",
            "Epoch 9/100\n",
            "1/1 [==============================] - 0s 14ms/step - loss: 2.9068 - mae: 2.9068\n",
            "Epoch 10/100\n",
            "1/1 [==============================] - 0s 8ms/step - loss: 2.8448 - mae: 2.8448\n",
            "Epoch 11/100\n",
            "1/1 [==============================] - 0s 11ms/step - loss: 2.7827 - mae: 2.7827\n",
            "Epoch 12/100\n",
            "1/1 [==============================] - 0s 8ms/step - loss: 2.7206 - mae: 2.7206\n",
            "Epoch 13/100\n",
            "1/1 [==============================] - 0s 12ms/step - loss: 2.6585 - mae: 2.6585\n",
            "Epoch 14/100\n",
            "1/1 [==============================] - 0s 6ms/step - loss: 2.5965 - mae: 2.5965\n",
            "Epoch 15/100\n",
            "1/1 [==============================] - 0s 6ms/step - loss: 2.5344 - mae: 2.5344\n",
            "Epoch 16/100\n",
            "1/1 [==============================] - 0s 6ms/step - loss: 2.4723 - mae: 2.4723\n",
            "Epoch 17/100\n",
            "1/1 [==============================] - 0s 13ms/step - loss: 2.4103 - mae: 2.4103\n",
            "Epoch 18/100\n",
            "1/1 [==============================] - 0s 7ms/step - loss: 2.3611 - mae: 2.3611\n",
            "Epoch 19/100\n",
            "1/1 [==============================] - 0s 6ms/step - loss: 2.3264 - mae: 2.3264\n",
            "Epoch 20/100\n",
            "1/1 [==============================] - 0s 6ms/step - loss: 2.2918 - mae: 2.2918\n",
            "Epoch 21/100\n",
            "1/1 [==============================] - 0s 6ms/step - loss: 2.2837 - mae: 2.2837\n",
            "Epoch 22/100\n",
            "1/1 [==============================] - 0s 6ms/step - loss: 2.2827 - mae: 2.2827\n",
            "Epoch 23/100\n",
            "1/1 [==============================] - 0s 6ms/step - loss: 2.2817 - mae: 2.2817\n",
            "Epoch 24/100\n",
            "1/1 [==============================] - 0s 6ms/step - loss: 2.2807 - mae: 2.2807\n",
            "Epoch 25/100\n",
            "1/1 [==============================] - 0s 7ms/step - loss: 2.2797 - mae: 2.2797\n",
            "Epoch 26/100\n",
            "1/1 [==============================] - 0s 7ms/step - loss: 2.2793 - mae: 2.2793\n",
            "Epoch 27/100\n",
            "1/1 [==============================] - 0s 7ms/step - loss: 2.2820 - mae: 2.2820\n",
            "Epoch 28/100\n",
            "1/1 [==============================] - 0s 20ms/step - loss: 2.2810 - mae: 2.2810\n",
            "Epoch 29/100\n",
            "1/1 [==============================] - 0s 9ms/step - loss: 2.2800 - mae: 2.2800\n",
            "Epoch 30/100\n",
            "1/1 [==============================] - 0s 8ms/step - loss: 2.2790 - mae: 2.2790\n",
            "Epoch 31/100\n",
            "1/1 [==============================] - 0s 8ms/step - loss: 2.2812 - mae: 2.2812\n",
            "Epoch 32/100\n",
            "1/1 [==============================] - 0s 9ms/step - loss: 2.2814 - mae: 2.2814\n",
            "Epoch 33/100\n",
            "1/1 [==============================] - 0s 12ms/step - loss: 2.2804 - mae: 2.2804\n",
            "Epoch 34/100\n",
            "1/1 [==============================] - 0s 8ms/step - loss: 2.2794 - mae: 2.2794\n",
            "Epoch 35/100\n",
            "1/1 [==============================] - 0s 9ms/step - loss: 2.2796 - mae: 2.2796\n",
            "Epoch 36/100\n",
            "1/1 [==============================] - 0s 7ms/step - loss: 2.2817 - mae: 2.2817\n",
            "Epoch 37/100\n",
            "1/1 [==============================] - 0s 8ms/step - loss: 2.2807 - mae: 2.2807\n",
            "Epoch 38/100\n",
            "1/1 [==============================] - 0s 8ms/step - loss: 2.2797 - mae: 2.2797\n",
            "Epoch 39/100\n",
            "1/1 [==============================] - 0s 9ms/step - loss: 2.2787 - mae: 2.2787\n",
            "Epoch 40/100\n",
            "1/1 [==============================] - 0s 9ms/step - loss: 2.2814 - mae: 2.2814\n",
            "Epoch 41/100\n",
            "1/1 [==============================] - 0s 8ms/step - loss: 2.2811 - mae: 2.2811\n",
            "Epoch 42/100\n",
            "1/1 [==============================] - 0s 8ms/step - loss: 2.2801 - mae: 2.2801\n",
            "Epoch 43/100\n",
            "1/1 [==============================] - 0s 10ms/step - loss: 2.2791 - mae: 2.2791\n",
            "Epoch 44/100\n",
            "1/1 [==============================] - 0s 9ms/step - loss: 2.2799 - mae: 2.2799\n",
            "Epoch 45/100\n",
            "1/1 [==============================] - 0s 8ms/step - loss: 2.2814 - mae: 2.2814\n",
            "Epoch 46/100\n",
            "1/1 [==============================] - 0s 7ms/step - loss: 2.2804 - mae: 2.2804\n",
            "Epoch 47/100\n",
            "1/1 [==============================] - 0s 9ms/step - loss: 2.2794 - mae: 2.2794\n",
            "Epoch 48/100\n",
            "1/1 [==============================] - 0s 9ms/step - loss: 2.2784 - mae: 2.2784\n",
            "Epoch 49/100\n",
            "1/1 [==============================] - 0s 9ms/step - loss: 2.2817 - mae: 2.2817\n",
            "Epoch 50/100\n",
            "1/1 [==============================] - 0s 7ms/step - loss: 2.2808 - mae: 2.2808\n",
            "Epoch 51/100\n",
            "1/1 [==============================] - 0s 10ms/step - loss: 2.2798 - mae: 2.2798\n",
            "Epoch 52/100\n",
            "1/1 [==============================] - 0s 8ms/step - loss: 2.2788 - mae: 2.2788\n",
            "Epoch 53/100\n",
            "1/1 [==============================] - 0s 11ms/step - loss: 2.2802 - mae: 2.2802\n",
            "Epoch 54/100\n",
            "1/1 [==============================] - 0s 7ms/step - loss: 2.2811 - mae: 2.2811\n",
            "Epoch 55/100\n",
            "1/1 [==============================] - 0s 7ms/step - loss: 2.2801 - mae: 2.2801\n",
            "Epoch 56/100\n",
            "1/1 [==============================] - 0s 9ms/step - loss: 2.2791 - mae: 2.2791\n",
            "Epoch 57/100\n",
            "1/1 [==============================] - 0s 10ms/step - loss: 2.2787 - mae: 2.2787\n",
            "Epoch 58/100\n",
            "1/1 [==============================] - 0s 11ms/step - loss: 2.2815 - mae: 2.2815\n",
            "Epoch 59/100\n",
            "1/1 [==============================] - 0s 11ms/step - loss: 2.2805 - mae: 2.2805\n",
            "Epoch 60/100\n",
            "1/1 [==============================] - 0s 9ms/step - loss: 2.2795 - mae: 2.2795\n",
            "Epoch 61/100\n",
            "1/1 [==============================] - 0s 11ms/step - loss: 2.2785 - mae: 2.2785\n",
            "Epoch 62/100\n",
            "1/1 [==============================] - 0s 8ms/step - loss: 2.2805 - mae: 2.2805\n",
            "Epoch 63/100\n",
            "1/1 [==============================] - 0s 7ms/step - loss: 2.2808 - mae: 2.2808\n",
            "Epoch 64/100\n",
            "1/1 [==============================] - 0s 7ms/step - loss: 2.2798 - mae: 2.2798\n",
            "Epoch 65/100\n",
            "1/1 [==============================] - 0s 7ms/step - loss: 2.2788 - mae: 2.2788\n",
            "Epoch 66/100\n",
            "1/1 [==============================] - 0s 7ms/step - loss: 2.2790 - mae: 2.2790\n",
            "Epoch 67/100\n",
            "1/1 [==============================] - 0s 8ms/step - loss: 2.2812 - mae: 2.2812\n",
            "Epoch 68/100\n",
            "1/1 [==============================] - 0s 10ms/step - loss: 2.2802 - mae: 2.2802\n",
            "Epoch 69/100\n",
            "1/1 [==============================] - 0s 7ms/step - loss: 2.2792 - mae: 2.2792\n",
            "Epoch 70/100\n",
            "1/1 [==============================] - 0s 7ms/step - loss: 2.2782 - mae: 2.2782\n",
            "Epoch 71/100\n",
            "1/1 [==============================] - 0s 8ms/step - loss: 2.2808 - mae: 2.2808\n",
            "Epoch 72/100\n",
            "1/1 [==============================] - 0s 6ms/step - loss: 2.2805 - mae: 2.2805\n",
            "Epoch 73/100\n",
            "1/1 [==============================] - 0s 7ms/step - loss: 2.2795 - mae: 2.2795\n",
            "Epoch 74/100\n",
            "1/1 [==============================] - 0s 6ms/step - loss: 2.2785 - mae: 2.2785\n",
            "Epoch 75/100\n",
            "1/1 [==============================] - 0s 7ms/step - loss: 2.2793 - mae: 2.2793\n",
            "Epoch 76/100\n",
            "1/1 [==============================] - 0s 7ms/step - loss: 2.2809 - mae: 2.2809\n",
            "Epoch 77/100\n",
            "1/1 [==============================] - 0s 7ms/step - loss: 2.2799 - mae: 2.2799\n",
            "Epoch 78/100\n",
            "1/1 [==============================] - 0s 7ms/step - loss: 2.2789 - mae: 2.2789\n",
            "Epoch 79/100\n",
            "1/1 [==============================] - 0s 7ms/step - loss: 2.2779 - mae: 2.2779\n",
            "Epoch 80/100\n",
            "1/1 [==============================] - 0s 7ms/step - loss: 2.2811 - mae: 2.2811\n",
            "Epoch 81/100\n",
            "1/1 [==============================] - 0s 7ms/step - loss: 2.2802 - mae: 2.2802\n",
            "Epoch 82/100\n",
            "1/1 [==============================] - 0s 7ms/step - loss: 2.2792 - mae: 2.2792\n",
            "Epoch 83/100\n",
            "1/1 [==============================] - 0s 7ms/step - loss: 2.2782 - mae: 2.2782\n",
            "Epoch 84/100\n",
            "1/1 [==============================] - 0s 9ms/step - loss: 2.2796 - mae: 2.2796\n",
            "Epoch 85/100\n",
            "1/1 [==============================] - 0s 8ms/step - loss: 2.2806 - mae: 2.2806\n",
            "Epoch 86/100\n",
            "1/1 [==============================] - 0s 7ms/step - loss: 2.2796 - mae: 2.2796\n",
            "Epoch 87/100\n",
            "1/1 [==============================] - 0s 7ms/step - loss: 2.2786 - mae: 2.2786\n",
            "Epoch 88/100\n",
            "1/1 [==============================] - 0s 8ms/step - loss: 2.2780 - mae: 2.2780\n",
            "Epoch 89/100\n",
            "1/1 [==============================] - 0s 8ms/step - loss: 2.2810 - mae: 2.2810\n",
            "Epoch 90/100\n",
            "1/1 [==============================] - 0s 9ms/step - loss: 2.2800 - mae: 2.2800\n",
            "Epoch 91/100\n",
            "1/1 [==============================] - 0s 8ms/step - loss: 2.2789 - mae: 2.2789\n",
            "Epoch 92/100\n",
            "1/1 [==============================] - 0s 7ms/step - loss: 2.2779 - mae: 2.2779\n",
            "Epoch 93/100\n",
            "1/1 [==============================] - 0s 7ms/step - loss: 2.2798 - mae: 2.2798\n",
            "Epoch 94/100\n",
            "1/1 [==============================] - 0s 7ms/step - loss: 2.2803 - mae: 2.2803\n",
            "Epoch 95/100\n",
            "1/1 [==============================] - 0s 7ms/step - loss: 2.2793 - mae: 2.2793\n",
            "Epoch 96/100\n",
            "1/1 [==============================] - 0s 7ms/step - loss: 2.2783 - mae: 2.2783\n",
            "Epoch 97/100\n",
            "1/1 [==============================] - 0s 7ms/step - loss: 2.2783 - mae: 2.2783\n",
            "Epoch 98/100\n",
            "1/1 [==============================] - 0s 7ms/step - loss: 2.2807 - mae: 2.2807\n",
            "Epoch 99/100\n",
            "1/1 [==============================] - 0s 7ms/step - loss: 2.2797 - mae: 2.2797\n",
            "Epoch 100/100\n",
            "1/1 [==============================] - 0s 7ms/step - loss: 2.2786 - mae: 2.2786\n"
          ]
        },
        {
          "data": {
            "text/plain": [
              "<keras.callbacks.History at 0x7fd68e457760>"
            ]
          },
          "execution_count": 14,
          "metadata": {},
          "output_type": "execute_result"
        }
      ],
      "source": [
        "# Model with more number of neurons \n",
        "\n",
        "# 1. Creating the model\n",
        "model = tf.keras.Sequential([\n",
        "    tf.keras.layers.Dense(1),  \n",
        "])\n",
        "\n",
        "# 2. compiling the model\n",
        "model.compile(loss = \"mae\",\n",
        "              optimizer = tf.keras.optimizers.SGD(lr = 0.01),\n",
        "              metrics = [\"mae\"])\n",
        "\n",
        "# 3. Fit the model\n",
        "model.fit(tf.expand_dims(X,-1),Y, epochs= 100)"
      ]
    },
    {
      "cell_type": "markdown",
      "metadata": {
        "id": "jIrcmMgerkha"
      },
      "source": [
        "> We can see by increasing the layers the the  my mean absolute error is increasing in this case ,so every change in the model dosen't lead to improvement in the model."
      ]
    },
    {
      "cell_type": "markdown",
      "metadata": {
        "id": "LCP7JYPjuoST"
      },
      "source": [
        "The metrices we see are not really representative of what the mdoel is going to predict."
      ]
    },
    {
      "cell_type": "markdown",
      "metadata": {
        "id": "GfRNNZO1tK_n"
      },
      "source": [
        "> We predict the accuracy of the model by using to predict the data that the model have not seen till now.\n",
        "\n",
        "> That is by dividing the data into two groups one for traning and one for predcicting."
      ]
    },
    {
      "cell_type": "markdown",
      "metadata": {
        "id": "BfjFznk4uHbX"
      },
      "source": [
        "**Common way of improving the model :**\n",
        "1. By adding more layers \n",
        "2. increasing the number of hidden layers\n",
        "3. Changing the activation function\n",
        "4. Changing the optimizer function \n",
        "5. Changing the learning rate \n",
        "6. Fitting on more data \n",
        "7. Fitting to longer (larger number of epochs)\n",
        "\n",
        "the learning rate is the most important hyper parameter"
      ]
    },
    {
      "cell_type": "markdown",
      "metadata": {
        "id": "7t7x08Y_kGCl"
      },
      "source": [
        "## **Evaluating a Model**\n",
        "```\n",
        "In practice a typical workflow :\n",
        "Build a model --> fit it --> evaluate it --> tweak a model --> fit it --> evaluate it --> tweak a model --> evaluate it.......```"
      ]
    },
    {
      "cell_type": "markdown",
      "metadata": {
        "id": "yosZ-YkMl3uF"
      },
      "source": [
        "Hyperparameter are the nobs that we can adjust to optimize the learnig of the model.\n",
        "\n",
        "Parameter are those patterns that the model learn from the data "
      ]
    },
    {
      "cell_type": "markdown",
      "metadata": {
        "id": "1iYBBky3nNn8"
      },
      "source": [
        "When it comes to evaluation ... there are 3 words to memorise :\n",
        "\n",
        "> \"Visualise, visualise , visualise\"\n",
        "\n",
        "This to visulaise :\n",
        "1. The data that we are working with \n",
        "2. model it self -- what does our model look like\n",
        "3. The traning of a model - how does the model perform while it learns ?\n",
        "4. The predictions of the model - how the model predict against the ground truth.\n",
        "\n"
      ]
    },
    {
      "cell_type": "code",
      "execution_count": null,
      "metadata": {
        "colab": {
          "base_uri": "https://localhost:8080/"
        },
        "id": "DXjFJnEFoIqX",
        "outputId": "ccbc5303-f864-4e5f-be11-3874f27af61f"
      },
      "outputs": [
        {
          "data": {
            "text/plain": [
              "<tf.Tensor: shape=(50,), dtype=int32, numpy=\n",
              "array([-100,  -96,  -92,  -88,  -84,  -80,  -76,  -72,  -68,  -64,  -60,\n",
              "        -56,  -52,  -48,  -44,  -40,  -36,  -32,  -28,  -24,  -20,  -16,\n",
              "        -12,   -8,   -4,    0,    4,    8,   12,   16,   20,   24,   28,\n",
              "         32,   36,   40,   44,   48,   52,   56,   60,   64,   68,   72,\n",
              "         76,   80,   84,   88,   92,   96], dtype=int32)>"
            ]
          },
          "execution_count": 15,
          "metadata": {},
          "output_type": "execute_result"
        }
      ],
      "source": [
        "# making a bigger dataset\n",
        "x= tf.range(-100,100,4)\n",
        "x"
      ]
    },
    {
      "cell_type": "code",
      "execution_count": null,
      "metadata": {
        "colab": {
          "base_uri": "https://localhost:8080/"
        },
        "id": "mVO-ZxvmoRsm",
        "outputId": "735c3615-2b23-4981-dc62-9ff7f7a9fc58"
      },
      "outputs": [
        {
          "data": {
            "text/plain": [
              "<tf.Tensor: shape=(50,), dtype=int32, numpy=\n",
              "array([-90, -86, -82, -78, -74, -70, -66, -62, -58, -54, -50, -46, -42,\n",
              "       -38, -34, -30, -26, -22, -18, -14, -10,  -6,  -2,   2,   6,  10,\n",
              "        14,  18,  22,  26,  30,  34,  38,  42,  46,  50,  54,  58,  62,\n",
              "        66,  70,  74,  78,  82,  86,  90,  94,  98, 102, 106], dtype=int32)>"
            ]
          },
          "execution_count": 16,
          "metadata": {},
          "output_type": "execute_result"
        }
      ],
      "source": [
        "# making the label for our model\n",
        "\n",
        "y= x+10\n",
        "y"
      ]
    },
    {
      "cell_type": "code",
      "execution_count": null,
      "metadata": {
        "colab": {
          "base_uri": "https://localhost:8080/",
          "height": 282
        },
        "id": "h1U0-fyLocfa",
        "outputId": "ab82db88-73c2-44c9-c510-f6346824090c"
      },
      "outputs": [
        {
          "data": {
            "text/plain": [
              "<matplotlib.collections.PathCollection at 0x7fd625902310>"
            ]
          },
          "execution_count": 17,
          "metadata": {},
          "output_type": "execute_result"
        },
        {
          "data": {
            "image/png": "[encoded data removed]",
            "text/plain": [
              "<Figure size 432x288 with 1 Axes>"
            ]
          },
          "metadata": {},
          "output_type": "display_data"
        }
      ],
      "source": [
        "#ploting the data\n",
        "\n",
        "import matplotlib.pyplot as plt\n",
        "\n",
        "plt.scatter(x,y)"
      ]
    },
    {
      "cell_type": "markdown",
      "metadata": {
        "id": "fpkkjTPTolo4"
      },
      "source": [
        "### The concept of three sets \n",
        "\n",
        "* Traning set -- The model learns on this tyoe of data about 70-80% of the data \n",
        "\n",
        "* Validation set -- The model get tuned on this set , which is typically 10-15% of the data available.\n",
        "\n",
        "* Test Set -- The model get evaluated on this set , this set is typically 10-15 percent of the total data available.\n"
      ]
    },
    {
      "cell_type": "code",
      "execution_count": null,
      "metadata": {
        "colab": {
          "base_uri": "https://localhost:8080/"
        },
        "id": "GZnOxO01p00o",
        "outputId": "2937ca7d-9607-4141-b6ef-50ead3200c44"
      },
      "outputs": [
        {
          "data": {
            "text/plain": [
              "50"
            ]
          },
          "execution_count": 18,
          "metadata": {},
          "output_type": "execute_result"
        }
      ],
      "source": [
        "# Check the length of how many data we are working on\n",
        "\n",
        "len(x)"
      ]
    },
    {
      "cell_type": "code",
      "execution_count": null,
      "metadata": {
        "colab": {
          "base_uri": "https://localhost:8080/"
        },
        "id": "UZus0CufqTcc",
        "outputId": "f87feb63-f00e-42b7-afc5-0b6e0c5a41da"
      },
      "outputs": [
        {
          "name": "stdout",
          "output_type": "stream",
          "text": [
            "tf.Tensor(\n",
            "[-100  -96  -92  -88  -84  -80  -76  -72  -68  -64  -60  -56  -52  -48\n",
            "  -44  -40  -36  -32  -28  -24  -20  -16  -12   -8   -4    0    4    8\n",
            "   12   16   20   24   28   32   36   40   44   48   52   56], shape=(40,), dtype=int32)\n",
            "\n",
            "tf.Tensor([60 64 68 72 76 80 84 88 92 96], shape=(10,), dtype=int32)\n"
          ]
        }
      ],
      "source": [
        "# Split the data into train and test sets \n",
        "x_train = x[:40]       # We want the first 40 data as we are working with 50 data \n",
        "y_train = y[:40]\n",
        "\n",
        "x_test = x[40:]        # the last 10 traning samples\n",
        "y_test= y[40:]\n",
        "\n",
        "print(x_train)\n",
        "print(\"\")\n",
        "print(x_test)"
      ]
    },
    {
      "cell_type": "code",
      "execution_count": null,
      "metadata": {
        "colab": {
          "base_uri": "https://localhost:8080/",
          "height": 265
        },
        "id": "tiajx_BwqzB0",
        "outputId": "6a826883-2260-480e-cf32-a087b25c5fd7"
      },
      "outputs": [
        {
          "data": {
            "image/png": "[encoded data removed]",
            "text/plain": [
              "<Figure size 432x288 with 1 Axes>"
            ]
          },
          "metadata": {},
          "output_type": "display_data"
        }
      ],
      "source": [
        "from prompt_toolkit.shortcuts.dialogs import Label\n",
        "# Visualising the data \n",
        "\n",
        "plt.scatter(x_train,y_train, label =\" Traning data\")    #learn learning data  on\n",
        "plt.scatter(x_test, y_test, label = \" Test data\") #predict on the testing data\n",
        "\n",
        "plt.legend();\n"
      ]
    },
    {
      "cell_type": "code",
      "execution_count": null,
      "metadata": {
        "id": "U4Lmllo2r7sq"
      },
      "outputs": [],
      "source": [
        "# make a model to predict the above value\n",
        "\n",
        "# 1. creating a model\n",
        "\n",
        "model = tf.keras.Sequential([\n",
        "    tf.keras.layers.Dense(1)\n",
        "])\n",
        "\n",
        "# 2. compile the model\n",
        "model.compile(loss = tf.keras.losses.mae,\n",
        "              optimizer = tf.keras.optimizers.SGD(lr = 0.01),\n",
        "              metrics = [\"mae\"])\n",
        "\n",
        "#3 fitting the data \n",
        "#model.fit(tf.expand_dims(x_train,-1),y_train, epochs =100)"
      ]
    },
    {
      "cell_type": "markdown",
      "metadata": {
        "id": "sV0vyik8tviH"
      },
      "source": [
        "> ## Visualising the model"
      ]
    },
    {
      "cell_type": "code",
      "execution_count": null,
      "metadata": {
        "colab": {
          "base_uri": "https://localhost:8080/",
          "height": 287
        },
        "id": "rfo4jCZwt0Hs",
        "outputId": "81903244-f4a9-4f09-dc2d-9313291af2bb"
      },
      "outputs": [
        {
          "ename": "ValueError",
          "evalue": "ignored",
          "output_type": "error",
          "traceback": [
            "\u001b[0;31m---------------------------------------------------------------------------\u001b[0m",
            "\u001b[0;31mValueError\u001b[0m                                Traceback (most recent call last)",
            "\u001b[0;32m<ipython-input-22-5f15418b3570>\u001b[0m in \u001b[0;36m<module>\u001b[0;34m\u001b[0m\n\u001b[0;32m----> 1\u001b[0;31m \u001b[0mmodel\u001b[0m\u001b[0;34m.\u001b[0m\u001b[0msummary\u001b[0m\u001b[0;34m(\u001b[0m\u001b[0;34m)\u001b[0m\u001b[0;34m\u001b[0m\u001b[0;34m\u001b[0m\u001b[0m\n\u001b[0m",
            "\u001b[0;32m/usr/local/lib/python3.8/dist-packages/keras/engine/training.py\u001b[0m in \u001b[0;36msummary\u001b[0;34m(self, line_length, positions, print_fn, expand_nested, show_trainable)\u001b[0m\n\u001b[1;32m   2867\u001b[0m     \"\"\"\n\u001b[1;32m   2868\u001b[0m     \u001b[0;32mif\u001b[0m \u001b[0;32mnot\u001b[0m \u001b[0mself\u001b[0m\u001b[0;34m.\u001b[0m\u001b[0mbuilt\u001b[0m\u001b[0;34m:\u001b[0m\u001b[0;34m\u001b[0m\u001b[0;34m\u001b[0m\u001b[0m\n\u001b[0;32m-> 2869\u001b[0;31m       raise ValueError(\n\u001b[0m\u001b[1;32m   2870\u001b[0m           \u001b[0;34m'This model has not yet been built. '\u001b[0m\u001b[0;34m\u001b[0m\u001b[0;34m\u001b[0m\u001b[0m\n\u001b[1;32m   2871\u001b[0m           \u001b[0;34m'Build the model first by calling `build()` or by calling '\u001b[0m\u001b[0;34m\u001b[0m\u001b[0;34m\u001b[0m\u001b[0m\n",
            "\u001b[0;31mValueError\u001b[0m: This model has not yet been built. Build the model first by calling `build()` or by calling the model on a batch of data."
          ]
        }
      ],
      "source": [
        "model.summary()"
      ]
    },
    {
      "cell_type": "code",
      "execution_count": null,
      "metadata": {
        "id": "MvQMmmMscclT"
      },
      "outputs": [],
      "source": [
        "# Making another model with input shape\n",
        "tf.random.set_seed(42)\n",
        "#1. making a model with input shape \n",
        "\n",
        "model = tf.keras.Sequential([\n",
        "    tf.keras.layers.Dense(1, input_shape = [1] ),   # the input shape will be 1 because we are taking one number for  predicting one number\n",
        "    tf.keras.layers.Dense(4)])\n",
        "\n",
        "#2. compiling the model\n",
        "model.compile(loss = tf.keras.losses.mae,\n",
        "              optimizer = tf.keras.optimizers.SGD(),\n",
        "              metrics=[\"mae\"])\n",
        "\n",
        "\n",
        "#Fully connected layers is also known as Dense layers\n",
        "#\n"
      ]
    },
    {
      "cell_type": "code",
      "execution_count": null,
      "metadata": {
        "colab": {
          "base_uri": "https://localhost:8080/"
        },
        "id": "wIUOoaAwd5bz",
        "outputId": "d2ed4da1-beb3-4d11-c118-a49388447b90"
      },
      "outputs": [
        {
          "name": "stdout",
          "output_type": "stream",
          "text": [
            "Model: \"sequential_3\"\n",
            "_________________________________________________________________\n",
            " Layer (type)                Output Shape              Param #   \n",
            "=================================================================\n",
            " dense_3 (Dense)             (None, 1)                 2         \n",
            "                                                                 \n",
            " dense_4 (Dense)             (None, 4)                 8         \n",
            "                                                                 \n",
            "=================================================================\n",
            "Total params: 10\n",
            "Trainable params: 10\n",
            "Non-trainable params: 0\n",
            "_________________________________________________________________\n"
          ]
        }
      ],
      "source": [
        "model.summary()"
      ]
    },
    {
      "cell_type": "markdown",
      "metadata": {
        "id": "1u9OMslZiwjy"
      },
      "source": [
        "* Total number parameters are the total number of relations that my model will try to learn form the data.\n",
        "* Trananble parameters --> These are parameters (pattersns) the model can update as it trains.\n",
        "* Non tainable para --> These are the parameters that aren't updated during the traning (These come from the transfer learning i.e. the previously learned patters)\n",
        "\n",
        "\n",
        "\n",
        "📚 **Resource** --> MIT introduction to deep learning \n",
        "\n",
        "**Extercise** -- > change the number of hidden layers in the dense layers and observe the change in the learning parametrs."
      ]
    },
    {
      "cell_type": "code",
      "execution_count": null,
      "metadata": {
        "id": "buRGj2pdlCng"
      },
      "outputs": [],
      "source": [
        "model.fit(x_train, y_train,epochs=100,verbose=1)"
      ]
    },
    {
      "cell_type": "code",
      "execution_count": null,
      "metadata": {
        "id": "fFKVDBegnOcH"
      },
      "outputs": [],
      "source": [
        "# we can use plot model function to visualise the model\n",
        "\n",
        "form tensorflow.keras.utils import plot_model\n",
        "\n",
        "plot_model()"
      ]
    },
    {
      "cell_type": "code",
      "execution_count": 50,
      "metadata": {
        "id": "0NfNyrM1nYZ0",
        "colab": {
          "base_uri": "https://localhost:8080/"
        },
        "outputId": "06d789b3-71bc-4318-959c-742aea863342"
      },
      "outputs": [
        {
          "output_type": "stream",
          "name": "stdout",
          "text": [
            "[0, 1, 2, 3, 4, 5, 6, 7, 8, 9, 10, 11, 12, 13, 14, 15, 16, 17, 18, 19, 20, 21, 22, 23, 24, 25, 26, 27, 28, 29, 30, 31, 32, 33, 34, 35, 36, 37, 38, 39, 40, 41, 42, 43, 44, 45, 46, 47, 48, 49, 50, 51, 52, 53, 54, 55, 56, 57, 58, 59, 60, 61, 62, 63, 64, 65, 66, 67, 68, 69, 70, 71, 72, 73, 74, 75, 76, 77, 78, 79, 80, 81, 82, 83, 84, 85, 86, 87, 88, 89, 90, 91, 92, 93, 94, 95, 96, 97, 98, 99]\n",
            "[5, 6, 7, 8, 9, 10, 11, 12, 13, 14, 15, 16, 17, 18, 19, 20, 21, 22, 23, 24, 25, 26, 27, 28, 29, 30, 31, 32, 33, 34, 35, 36, 37, 38, 39, 40, 41, 42, 43, 44, 45, 46, 47, 48, 49, 50, 51, 52, 53, 54, 55, 56, 57, 58, 59, 60, 61, 62, 63, 64, 65, 66, 67, 68, 69, 70, 71, 72, 73, 74, 75, 76, 77, 78, 79, 80, 81, 82, 83, 84, 85, 86, 87, 88, 89, 90, 91, 92, 93, 94, 95, 96, 97, 98, 99, 100, 101, 102, 103, 104]\n",
            "\n",
            "\n",
            "Epoch 1/100\n",
            "2/2 [==============================] - 0s 6ms/step - loss: 33.9620 - mae: 33.9620\n",
            "Epoch 2/100\n",
            "2/2 [==============================] - 0s 4ms/step - loss: 26.6422 - mae: 26.6422\n",
            "Epoch 3/100\n",
            "2/2 [==============================] - 0s 4ms/step - loss: 21.1127 - mae: 21.1127\n",
            "Epoch 4/100\n",
            "2/2 [==============================] - 0s 6ms/step - loss: 17.0398 - mae: 17.0398\n",
            "Epoch 5/100\n",
            "2/2 [==============================] - 0s 5ms/step - loss: 12.7540 - mae: 12.7540\n",
            "Epoch 6/100\n",
            "2/2 [==============================] - 0s 5ms/step - loss: 10.1164 - mae: 10.1164\n",
            "Epoch 7/100\n",
            "2/2 [==============================] - 0s 5ms/step - loss: 7.7942 - mae: 7.7942\n",
            "Epoch 8/100\n",
            "2/2 [==============================] - 0s 5ms/step - loss: 6.1602 - mae: 6.1602\n",
            "Epoch 9/100\n",
            "2/2 [==============================] - 0s 5ms/step - loss: 3.3247 - mae: 3.3247\n",
            "Epoch 10/100\n",
            "2/2 [==============================] - 0s 5ms/step - loss: 2.9748 - mae: 2.9748\n",
            "Epoch 11/100\n",
            "2/2 [==============================] - 0s 5ms/step - loss: 3.4326 - mae: 3.4326\n",
            "Epoch 12/100\n",
            "2/2 [==============================] - 0s 5ms/step - loss: 3.8448 - mae: 3.8448\n",
            "Epoch 13/100\n",
            "2/2 [==============================] - 0s 4ms/step - loss: 2.6501 - mae: 2.6501\n",
            "Epoch 14/100\n",
            "2/2 [==============================] - 0s 7ms/step - loss: 3.9612 - mae: 3.9612\n",
            "Epoch 15/100\n",
            "2/2 [==============================] - 0s 5ms/step - loss: 3.9210 - mae: 3.9210\n",
            "Epoch 16/100\n",
            "2/2 [==============================] - 0s 5ms/step - loss: 2.1654 - mae: 2.1654\n",
            "Epoch 17/100\n",
            "2/2 [==============================] - 0s 5ms/step - loss: 3.3565 - mae: 3.3565\n",
            "Epoch 18/100\n",
            "2/2 [==============================] - 0s 5ms/step - loss: 4.0163 - mae: 4.0163\n",
            "Epoch 19/100\n",
            "2/2 [==============================] - 0s 5ms/step - loss: 3.8854 - mae: 3.8854\n",
            "Epoch 20/100\n",
            "2/2 [==============================] - 0s 4ms/step - loss: 3.8010 - mae: 3.8010\n",
            "Epoch 21/100\n",
            "2/2 [==============================] - 0s 5ms/step - loss: 3.5981 - mae: 3.5981\n",
            "Epoch 22/100\n",
            "2/2 [==============================] - 0s 5ms/step - loss: 3.9198 - mae: 3.9198\n",
            "Epoch 23/100\n",
            "2/2 [==============================] - 0s 5ms/step - loss: 2.9043 - mae: 2.9043\n",
            "Epoch 24/100\n",
            "2/2 [==============================] - 0s 5ms/step - loss: 5.3400 - mae: 5.3400\n",
            "Epoch 25/100\n",
            "2/2 [==============================] - 0s 4ms/step - loss: 2.1040 - mae: 2.1040\n",
            "Epoch 26/100\n",
            "2/2 [==============================] - 0s 5ms/step - loss: 3.2915 - mae: 3.2915\n",
            "Epoch 27/100\n",
            "2/2 [==============================] - 0s 4ms/step - loss: 3.9730 - mae: 3.9730\n",
            "Epoch 28/100\n",
            "2/2 [==============================] - 0s 5ms/step - loss: 6.1093 - mae: 6.1093\n",
            "Epoch 29/100\n",
            "2/2 [==============================] - 0s 7ms/step - loss: 3.0977 - mae: 3.0977\n",
            "Epoch 30/100\n",
            "2/2 [==============================] - 0s 7ms/step - loss: 4.0053 - mae: 4.0053\n",
            "Epoch 31/100\n",
            "2/2 [==============================] - 0s 6ms/step - loss: 2.7524 - mae: 2.7524\n",
            "Epoch 32/100\n",
            "2/2 [==============================] - 0s 4ms/step - loss: 3.6480 - mae: 3.6480\n",
            "Epoch 33/100\n",
            "2/2 [==============================] - 0s 6ms/step - loss: 2.7139 - mae: 2.7139\n",
            "Epoch 34/100\n",
            "2/2 [==============================] - 0s 4ms/step - loss: 2.4473 - mae: 2.4473\n",
            "Epoch 35/100\n",
            "2/2 [==============================] - 0s 6ms/step - loss: 4.0312 - mae: 4.0312\n",
            "Epoch 36/100\n",
            "2/2 [==============================] - 0s 8ms/step - loss: 2.1992 - mae: 2.1992\n",
            "Epoch 37/100\n",
            "2/2 [==============================] - 0s 4ms/step - loss: 3.8456 - mae: 3.8456\n",
            "Epoch 38/100\n",
            "2/2 [==============================] - 0s 5ms/step - loss: 2.5556 - mae: 2.5556\n",
            "Epoch 39/100\n",
            "2/2 [==============================] - 0s 5ms/step - loss: 3.2325 - mae: 3.2325\n",
            "Epoch 40/100\n",
            "2/2 [==============================] - 0s 5ms/step - loss: 4.5824 - mae: 4.5824\n",
            "Epoch 41/100\n",
            "2/2 [==============================] - 0s 4ms/step - loss: 3.0757 - mae: 3.0757\n",
            "Epoch 42/100\n",
            "2/2 [==============================] - 0s 4ms/step - loss: 2.1691 - mae: 2.1691\n",
            "Epoch 43/100\n",
            "2/2 [==============================] - 0s 4ms/step - loss: 2.2405 - mae: 2.2405\n",
            "Epoch 44/100\n",
            "2/2 [==============================] - 0s 5ms/step - loss: 2.9856 - mae: 2.9856\n",
            "Epoch 45/100\n",
            "2/2 [==============================] - 0s 4ms/step - loss: 2.9286 - mae: 2.9286\n",
            "Epoch 46/100\n",
            "2/2 [==============================] - 0s 5ms/step - loss: 3.6986 - mae: 3.6986\n",
            "Epoch 47/100\n",
            "2/2 [==============================] - 0s 3ms/step - loss: 2.8697 - mae: 2.8697\n",
            "Epoch 48/100\n",
            "2/2 [==============================] - 0s 4ms/step - loss: 3.8869 - mae: 3.8869\n",
            "Epoch 49/100\n",
            "2/2 [==============================] - 0s 4ms/step - loss: 3.2588 - mae: 3.2588\n",
            "Epoch 50/100\n",
            "2/2 [==============================] - 0s 7ms/step - loss: 3.7827 - mae: 3.7827\n",
            "Epoch 51/100\n",
            "2/2 [==============================] - 0s 4ms/step - loss: 4.4018 - mae: 4.4018\n",
            "Epoch 52/100\n",
            "2/2 [==============================] - 0s 4ms/step - loss: 2.0225 - mae: 2.0225\n",
            "Epoch 53/100\n",
            "2/2 [==============================] - 0s 8ms/step - loss: 2.1104 - mae: 2.1104\n",
            "Epoch 54/100\n",
            "2/2 [==============================] - 0s 9ms/step - loss: 1.9869 - mae: 1.9869\n",
            "Epoch 55/100\n",
            "2/2 [==============================] - 0s 7ms/step - loss: 2.4633 - mae: 2.4633\n",
            "Epoch 56/100\n",
            "2/2 [==============================] - 0s 4ms/step - loss: 3.2034 - mae: 3.2034\n",
            "Epoch 57/100\n",
            "2/2 [==============================] - 0s 4ms/step - loss: 4.3342 - mae: 4.3342\n",
            "Epoch 58/100\n",
            "2/2 [==============================] - 0s 4ms/step - loss: 3.9945 - mae: 3.9945\n",
            "Epoch 59/100\n",
            "2/2 [==============================] - 0s 4ms/step - loss: 3.2947 - mae: 3.2947\n",
            "Epoch 60/100\n",
            "2/2 [==============================] - 0s 4ms/step - loss: 4.3605 - mae: 4.3605\n",
            "Epoch 61/100\n",
            "2/2 [==============================] - 0s 6ms/step - loss: 3.1564 - mae: 3.1564\n",
            "Epoch 62/100\n",
            "2/2 [==============================] - 0s 4ms/step - loss: 6.0506 - mae: 6.0506\n",
            "Epoch 63/100\n",
            "2/2 [==============================] - 0s 4ms/step - loss: 2.9320 - mae: 2.9320\n",
            "Epoch 64/100\n",
            "2/2 [==============================] - 0s 4ms/step - loss: 3.8644 - mae: 3.8644\n",
            "Epoch 65/100\n",
            "2/2 [==============================] - 0s 5ms/step - loss: 3.9475 - mae: 3.9475\n",
            "Epoch 66/100\n",
            "2/2 [==============================] - 0s 4ms/step - loss: 2.8144 - mae: 2.8144\n",
            "Epoch 67/100\n",
            "2/2 [==============================] - 0s 4ms/step - loss: 1.9318 - mae: 1.9318\n",
            "Epoch 68/100\n",
            "2/2 [==============================] - 0s 5ms/step - loss: 2.5855 - mae: 2.5855\n",
            "Epoch 69/100\n",
            "2/2 [==============================] - 0s 6ms/step - loss: 4.2944 - mae: 4.2944\n",
            "Epoch 70/100\n",
            "2/2 [==============================] - 0s 5ms/step - loss: 2.9402 - mae: 2.9402\n",
            "Epoch 71/100\n",
            "2/2 [==============================] - 0s 5ms/step - loss: 5.3012 - mae: 5.3012\n",
            "Epoch 72/100\n",
            "2/2 [==============================] - 0s 8ms/step - loss: 2.4006 - mae: 2.4006\n",
            "Epoch 73/100\n",
            "2/2 [==============================] - 0s 5ms/step - loss: 2.5495 - mae: 2.5495\n",
            "Epoch 74/100\n",
            "2/2 [==============================] - 0s 4ms/step - loss: 3.3988 - mae: 3.3988\n",
            "Epoch 75/100\n",
            "2/2 [==============================] - 0s 4ms/step - loss: 3.3728 - mae: 3.3728\n",
            "Epoch 76/100\n",
            "2/2 [==============================] - 0s 6ms/step - loss: 3.2811 - mae: 3.2811\n",
            "Epoch 77/100\n",
            "2/2 [==============================] - 0s 6ms/step - loss: 2.9893 - mae: 2.9893\n",
            "Epoch 78/100\n",
            "2/2 [==============================] - 0s 10ms/step - loss: 3.4813 - mae: 3.4813\n",
            "Epoch 79/100\n",
            "2/2 [==============================] - 0s 4ms/step - loss: 3.9983 - mae: 3.9983\n",
            "Epoch 80/100\n",
            "2/2 [==============================] - 0s 5ms/step - loss: 2.7116 - mae: 2.7116\n",
            "Epoch 81/100\n",
            "2/2 [==============================] - 0s 4ms/step - loss: 2.5282 - mae: 2.5282\n",
            "Epoch 82/100\n",
            "2/2 [==============================] - 0s 6ms/step - loss: 4.4305 - mae: 4.4305\n",
            "Epoch 83/100\n",
            "2/2 [==============================] - 0s 4ms/step - loss: 3.3647 - mae: 3.3647\n",
            "Epoch 84/100\n",
            "2/2 [==============================] - 0s 3ms/step - loss: 4.6495 - mae: 4.6495\n",
            "Epoch 85/100\n",
            "2/2 [==============================] - 0s 4ms/step - loss: 2.2486 - mae: 2.2486\n",
            "Epoch 86/100\n",
            "2/2 [==============================] - 0s 4ms/step - loss: 3.0950 - mae: 3.0950\n",
            "Epoch 87/100\n",
            "2/2 [==============================] - 0s 4ms/step - loss: 4.1454 - mae: 4.1454\n",
            "Epoch 88/100\n",
            "2/2 [==============================] - 0s 4ms/step - loss: 3.1777 - mae: 3.1777\n",
            "Epoch 89/100\n",
            "2/2 [==============================] - 0s 5ms/step - loss: 3.5934 - mae: 3.5934\n",
            "Epoch 90/100\n",
            "2/2 [==============================] - 0s 6ms/step - loss: 4.1350 - mae: 4.1350\n",
            "Epoch 91/100\n",
            "2/2 [==============================] - 0s 5ms/step - loss: 3.1453 - mae: 3.1453\n",
            "Epoch 92/100\n",
            "2/2 [==============================] - 0s 4ms/step - loss: 2.3731 - mae: 2.3731\n",
            "Epoch 93/100\n",
            "2/2 [==============================] - 0s 4ms/step - loss: 2.4148 - mae: 2.4148\n",
            "Epoch 94/100\n",
            "2/2 [==============================] - 0s 4ms/step - loss: 3.3608 - mae: 3.3608\n",
            "Epoch 95/100\n",
            "2/2 [==============================] - 0s 4ms/step - loss: 4.6635 - mae: 4.6635\n",
            "Epoch 96/100\n",
            "2/2 [==============================] - 0s 4ms/step - loss: 3.1123 - mae: 3.1123\n",
            "Epoch 97/100\n",
            "2/2 [==============================] - 0s 3ms/step - loss: 3.8132 - mae: 3.8132\n",
            "Epoch 98/100\n",
            "2/2 [==============================] - 0s 3ms/step - loss: 2.3506 - mae: 2.3506\n",
            "Epoch 99/100\n",
            "2/2 [==============================] - 0s 5ms/step - loss: 2.1382 - mae: 2.1382\n",
            "Epoch 100/100\n",
            "2/2 [==============================] - 0s 3ms/step - loss: 5.1881 - mae: 5.1881\n",
            "************************************************************\n"
          ]
        },
        {
          "output_type": "execute_result",
          "data": {
            "text/plain": [
              "keras.engine.sequential.Sequential"
            ]
          },
          "metadata": {},
          "execution_count": 50
        }
      ],
      "source": [
        "import tensorflow as tf \n",
        "\n",
        "x = list()\n",
        "#creating data for the modle to fit \n",
        "for i in range(0,100):\n",
        "  x.append(i)\n",
        "\n",
        "\n",
        "y = list()\n",
        "for i in range(0,len(x)):\n",
        "  y.append(x[i]+ 5)\n",
        "\n",
        "print(x)\n",
        "print(y)\n",
        "print()\n",
        "print()\n",
        "# seprating the data sets into traning data and testing data\n",
        "#traning data\n",
        "x_train =tf.constant(x[:40])\n",
        "y_train =tf.constant(y[:40])\n",
        "\n",
        "#testing data\n",
        "x_test = tf.constant(x[41:])\n",
        "y_test = tf.constant(y[41:]) \n",
        "\n",
        "#1 creating the model \n",
        "model = tf.keras.Sequential([\n",
        "    tf.keras.layers.Dense(1, input_shape=[1]),\n",
        "    tf.keras.layers.Dense(3)       #we need to define the shapes for the model to get build properly\n",
        "])\n",
        "\n",
        "#2. compiling the model\n",
        "\n",
        "model.compile(loss = tf.keras.losses.mae,\n",
        "              optimizer = tf.keras.optimizers.SGD(learning_rate=0.01),\n",
        "              metrics = [\"mae\"])\n",
        "#3 fitting the model \n",
        "\n",
        "model.fit(x_train, y_train, epochs = 100)\n",
        "\n",
        "print(\"************************************************************\")\n",
        "type(model)"
      ]
    },
    {
      "cell_type": "code",
      "execution_count": 34,
      "metadata": {
        "colab": {
          "base_uri": "https://localhost:8080/"
        },
        "id": "-SEwzh6WbRow",
        "outputId": "30c633e2-3ee4-4bb9-8146-815174c36028"
      },
      "outputs": [
        {
          "output_type": "stream",
          "name": "stdout",
          "text": [
            "Model: \"sequential_10\"\n",
            "_________________________________________________________________\n",
            " Layer (type)                Output Shape              Param #   \n",
            "=================================================================\n",
            " dense_10 (Dense)            (None, 1)                 2         \n",
            "                                                                 \n",
            "=================================================================\n",
            "Total params: 2\n",
            "Trainable params: 2\n",
            "Non-trainable params: 0\n",
            "_________________________________________________________________\n"
          ]
        }
      ],
      "source": [
        "model.summary()"
      ]
    },
    {
      "cell_type": "markdown",
      "source": [
        "By increasing the learning rate the efectiveness of the modle decreases , the modle ties to learn a lot faster Nd overshoots the predicted values."
      ],
      "metadata": {
        "id": "Ccnc3EwI_yS0"
      }
    }
  ],
  "metadata": {
    "colab": {
      "provenance": [],
      "include_colab_link": true
    },
    "kernelspec": {
      "display_name": "Python 3",
      "language": "python",
      "name": "python3"
    },
    "language_info": {
      "codemirror_mode": {
        "name": "ipython",
        "version": 3
      },
      "file_extension": ".py",
      "mimetype": "text/x-python",
      "name": "python",
      "nbconvert_exporter": "python",
      "pygments_lexer": "ipython3",
      "version": "3.8.0 (tags/v3.8.0:fa919fd, Oct 14 2019, 19:37:50) [MSC v.1916 64 bit (AMD64)]"
    },
    "vscode": {
      "interpreter": {
        "hash": "c85b68248aa2fc15fe6a356e23a8710a52b493a26cd9eca9fc59a0b7f9da1ae5"
      }
    }
  },
  "nbformat": 4,
  "nbformat_minor": 0
}