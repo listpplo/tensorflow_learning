{
  "cells": [
    {
      "cell_type": "markdown",
      "metadata": {
        "id": "view-in-github",
        "colab_type": "text"
      },
      "source": [
        "<a href=\"https://colab.research.google.com/github/listpplo/tensorflow_learning/blob/main/00_tensorflow_Fundamentals_.ipynb\" target=\"_parent\"><img src=\"https://colab.research.google.com/assets/colab-badge.svg\" alt=\"Open In Colab\"/></a>"
      ]
    },
    {
      "cell_type": "markdown",
      "metadata": {
        "id": "od-6JhCcMB96"
      },
      "source": [
        "##**Fundamental concepts of tensorflow**"
      ]
    },
    {
      "cell_type": "markdown",
      "metadata": {
        "id": "xAN3GJkRMrLl"
      },
      "source": [
        "we are going to create the first tensor\n",
        "Learnings:\n",
        "* Introduction to tensors \n",
        "* puting and getting information from tensors\n",
        "* Manipulting tensors \n",
        "* Tensor and numpy\n",
        "* using @tf.function \n",
        "* using GPUS with Tensorflow (or tpu)"
      ]
    },
    {
      "cell_type": "markdown",
      "metadata": {
        "id": "LmaON6xrN5ee"
      },
      "source": [
        "#INTRODUCTION TO TENSORS"
      ]
    },
    {
      "cell_type": "code",
      "execution_count": null,
      "metadata": {
        "colab": {
          "base_uri": "https://localhost:8080/"
        },
        "id": "xqW4p59gOVuH",
        "outputId": "9b52c908-b635-4743-d64f-29809bbb7c15"
      },
      "outputs": [
        {
          "output_type": "stream",
          "name": "stdout",
          "text": [
            "2.9.2\n"
          ]
        }
      ],
      "source": [
        "import tensorflow as tf         #importing tensor flow as tf\n",
        "print(tf.__version__)"
      ]
    },
    {
      "cell_type": "code",
      "execution_count": null,
      "metadata": {
        "colab": {
          "base_uri": "https://localhost:8080/"
        },
        "id": "GfBM8neJOwvn",
        "outputId": "b6149762-b6e9-44c3-8be5-1e7cc558b15c"
      },
      "outputs": [
        {
          "output_type": "execute_result",
          "data": {
            "text/plain": [
              "<tf.Tensor: shape=(), dtype=int32, numpy=7>"
            ]
          },
          "metadata": {},
          "execution_count": 2
        }
      ],
      "source": [
        "#creating tensors with tf.constant()\n",
        "scalar = tf.constant(7)\n",
        "scalar"
      ]
    },
    {
      "cell_type": "code",
      "execution_count": null,
      "metadata": {
        "colab": {
          "base_uri": "https://localhost:8080/"
        },
        "id": "9Q9HZHGePaO_",
        "outputId": "a91f30b1-c223-4fd0-dddb-fad197fdccb3"
      },
      "outputs": [
        {
          "output_type": "execute_result",
          "data": {
            "text/plain": [
              "0"
            ]
          },
          "metadata": {},
          "execution_count": 3
        }
      ],
      "source": [
        "# cheacking the number of dimensions of a tensors (ndim)\n",
        "scalar.ndim"
      ]
    },
    {
      "cell_type": "code",
      "execution_count": null,
      "metadata": {
        "colab": {
          "base_uri": "https://localhost:8080/"
        },
        "id": "XKvRO7D0PypI",
        "outputId": "c2394f6d-d3d3-4627-814e-383fe9f4f293"
      },
      "outputs": [
        {
          "output_type": "execute_result",
          "data": {
            "text/plain": [
              "<tf.Tensor: shape=(2,), dtype=int32, numpy=array([10, 10], dtype=int32)>"
            ]
          },
          "metadata": {},
          "execution_count": 4
        }
      ],
      "source": [
        "#crating a vector\n",
        "vector = tf.constant([10,10])\n",
        "vector"
      ]
    },
    {
      "cell_type": "code",
      "execution_count": null,
      "metadata": {
        "colab": {
          "base_uri": "https://localhost:8080/"
        },
        "id": "_EHarwTcQLt-",
        "outputId": "36fccab3-8345-4d62-b49f-a4152ddc1771"
      },
      "outputs": [
        {
          "output_type": "execute_result",
          "data": {
            "text/plain": [
              "1"
            ]
          },
          "metadata": {},
          "execution_count": 5
        }
      ],
      "source": [
        "#check the dimension of our vector\n",
        "vector.ndim"
      ]
    },
    {
      "cell_type": "code",
      "execution_count": null,
      "metadata": {
        "colab": {
          "base_uri": "https://localhost:8080/"
        },
        "id": "CvfSk7qaQRVI",
        "outputId": "b8a5c7cc-81b9-474c-a726-c3fbf1a8e293"
      },
      "outputs": [
        {
          "output_type": "execute_result",
          "data": {
            "text/plain": [
              "<tf.Tensor: shape=(2, 2), dtype=int32, numpy=\n",
              "array([[10,  7],\n",
              "       [ 7, 10]], dtype=int32)>"
            ]
          },
          "metadata": {},
          "execution_count": 6
        }
      ],
      "source": [
        "#creating a matrix(that has more than one dimension)\n",
        "matrix = tf.constant([[10,7],\n",
        "                     [7,10]])\n",
        "matrix"
      ]
    },
    {
      "cell_type": "code",
      "execution_count": null,
      "metadata": {
        "colab": {
          "base_uri": "https://localhost:8080/"
        },
        "id": "Mmu0PqWTQ2YC",
        "outputId": "67b0562a-a688-422a-fca6-f1656cc82519"
      },
      "outputs": [
        {
          "output_type": "execute_result",
          "data": {
            "text/plain": [
              "2"
            ]
          },
          "metadata": {},
          "execution_count": 7
        }
      ],
      "source": [
        "matrix.ndim"
      ]
    },
    {
      "cell_type": "code",
      "execution_count": null,
      "metadata": {
        "colab": {
          "base_uri": "https://localhost:8080/"
        },
        "id": "xd8z6sPKRAEt",
        "outputId": "2a267132-700d-4338-c646-22f4be7377c8"
      },
      "outputs": [
        {
          "output_type": "execute_result",
          "data": {
            "text/plain": [
              "<tf.Tensor: shape=(3, 2), dtype=float16, numpy=\n",
              "array([[10.,  7.],\n",
              "       [ 3.,  2.],\n",
              "       [ 8.,  9.]], dtype=float16)>"
            ]
          },
          "metadata": {},
          "execution_count": 8
        }
      ],
      "source": [
        "#create another matrix\n",
        "\n",
        "# if we have data type error we can manupulate the data type\n",
        "another_matrix = tf.constant([[10.,7.],\n",
        "                              [3.,2.],\n",
        "                              [8.,9.]],dtype=tf.float16)\n",
        "another_matrix"
      ]
    },
    {
      "cell_type": "code",
      "execution_count": null,
      "metadata": {
        "colab": {
          "base_uri": "https://localhost:8080/"
        },
        "id": "5q1pTjSnR6OT",
        "outputId": "67ae2b1f-74b9-4b31-b489-4564210ac8f7"
      },
      "outputs": [
        {
          "output_type": "execute_result",
          "data": {
            "text/plain": [
              "2"
            ]
          },
          "metadata": {},
          "execution_count": 9
        }
      ],
      "source": [
        "another_matrix.ndim"
      ]
    },
    {
      "cell_type": "code",
      "execution_count": null,
      "metadata": {
        "colab": {
          "base_uri": "https://localhost:8080/"
        },
        "id": "NIT--F-hW0dd",
        "outputId": "bc911e1e-13f4-41f6-aba8-66da244f2555"
      },
      "outputs": [
        {
          "output_type": "execute_result",
          "data": {
            "text/plain": [
              "<tf.Tensor: shape=(3, 2, 3), dtype=int32, numpy=\n",
              "array([[[ 1,  2,  3],\n",
              "        [ 4,  5,  6]],\n",
              "\n",
              "       [[ 7,  8,  9],\n",
              "        [10, 11, 12]],\n",
              "\n",
              "       [[12, 13, 14],\n",
              "        [14, 15, 16]]], dtype=int32)>"
            ]
          },
          "metadata": {},
          "execution_count": 10
        }
      ],
      "source": [
        "#creating a tensor \n",
        "tensor = tf.constant([[[1,2,3],\n",
        "                       [4,5,6]],\n",
        "                       [[7,8,9],\n",
        "                      [10,11,12]],\n",
        "                       [[12,13,14],\n",
        "                       [14,15,16]]])\n",
        "tensor"
      ]
    },
    {
      "cell_type": "code",
      "execution_count": null,
      "metadata": {
        "colab": {
          "base_uri": "https://localhost:8080/"
        },
        "id": "0GYPoagNXf3Y",
        "outputId": "bd3c5fa6-210c-4916-f580-8a7d7718235d"
      },
      "outputs": [
        {
          "output_type": "execute_result",
          "data": {
            "text/plain": [
              "3"
            ]
          },
          "metadata": {},
          "execution_count": 11
        }
      ],
      "source": [
        "tensor.ndim"
      ]
    },
    {
      "cell_type": "markdown",
      "metadata": {
        "id": "rm5ZC71xZCng"
      },
      "source": [
        "## what we'have created so far\n",
        "* Scalar : a single number\n",
        "* Vector : a number with direction(e.g wind speed with direction)\n",
        "* Matrix : a 2-dimensional array of numbers\n",
        "* Tensor : an n dimensional array of numbers ( 0-dimensional : scalar and so on)"
      ]
    },
    {
      "cell_type": "markdown",
      "metadata": {
        "id": "iKMCbBbjZ8ji"
      },
      "source": [
        "#Creating tensors with tf.variable"
      ]
    },
    {
      "cell_type": "markdown",
      "metadata": {
        "id": "VgwIxvajaFN6"
      },
      "source": [
        "Generally the tensors are **immutable** but by utilising the **tf.variable** we can make a variable tensor"
      ]
    },
    {
      "cell_type": "code",
      "execution_count": null,
      "metadata": {
        "id": "WOdK5JGyZ-gu"
      },
      "outputs": [],
      "source": [
        "changeable_tensor = tf.Variable([10,7])"
      ]
    },
    {
      "cell_type": "code",
      "execution_count": null,
      "metadata": {
        "colab": {
          "base_uri": "https://localhost:8080/"
        },
        "id": "KzzE_3CUSV-g",
        "outputId": "22f2d67f-b305-44a4-f725-6ecec10f07ed"
      },
      "outputs": [
        {
          "output_type": "execute_result",
          "data": {
            "text/plain": [
              "(<tf.Variable 'Variable:0' shape=(2,) dtype=int32, numpy=array([10,  7], dtype=int32)>,\n",
              " <tf.Tensor: shape=(2,), dtype=int32, numpy=array([10,  7], dtype=int32)>)"
            ]
          },
          "metadata": {},
          "execution_count": 13
        }
      ],
      "source": [
        "unchangable_tensor = tf.constant([10,7])\n",
        "changeable_tensor , unchangable_tensor"
      ]
    },
    {
      "cell_type": "code",
      "execution_count": null,
      "metadata": {
        "colab": {
          "base_uri": "https://localhost:8080/",
          "height": 217
        },
        "id": "goJkxI3y-O2J",
        "outputId": "44e224ba-cdfa-4d61-e617-29bde9078fe7"
      },
      "outputs": [
        {
          "output_type": "error",
          "ename": "TypeError",
          "evalue": "ignored",
          "traceback": [
            "\u001b[0;31m---------------------------------------------------------------------------\u001b[0m",
            "\u001b[0;31mTypeError\u001b[0m                                 Traceback (most recent call last)",
            "\u001b[0;32m<ipython-input-14-4c8da45d21bc>\u001b[0m in \u001b[0;36m<module>\u001b[0;34m\u001b[0m\n\u001b[1;32m      1\u001b[0m \u001b[0;31m#let's change one of the element of changeable_tesnsor\u001b[0m\u001b[0;34m\u001b[0m\u001b[0;34m\u001b[0m\u001b[0;34m\u001b[0m\u001b[0m\n\u001b[1;32m      2\u001b[0m \u001b[0;34m\u001b[0m\u001b[0m\n\u001b[0;32m----> 3\u001b[0;31m \u001b[0mchangeable_tensor\u001b[0m\u001b[0;34m[\u001b[0m\u001b[0;36m0\u001b[0m\u001b[0;34m]\u001b[0m \u001b[0;34m=\u001b[0m \u001b[0;36m9\u001b[0m  \u001b[0;31m# not the correct way\u001b[0m\u001b[0;34m\u001b[0m\u001b[0;34m\u001b[0m\u001b[0m\n\u001b[0m\u001b[1;32m      4\u001b[0m \u001b[0mchangeable_tensor\u001b[0m\u001b[0;34m\u001b[0m\u001b[0;34m\u001b[0m\u001b[0m\n",
            "\u001b[0;31mTypeError\u001b[0m: 'ResourceVariable' object does not support item assignment"
          ]
        }
      ],
      "source": [
        "#let's change one of the element of changeable_tesnsor\n",
        "\n",
        "changeable_tensor[0] = 9  # not the correct way\n",
        "changeable_tensor"
      ]
    },
    {
      "cell_type": "code",
      "execution_count": null,
      "metadata": {
        "id": "k33l5NxA-oDg"
      },
      "outputs": [],
      "source": [
        "# now we try tensor[n].assign -- for variable tensor\n",
        "changeable_tensor[0].assign(7)   # correct way\n",
        "changeable_tensor"
      ]
    },
    {
      "cell_type": "code",
      "execution_count": null,
      "metadata": {
        "id": "OCBVpqMS_Op5"
      },
      "outputs": [],
      "source": [
        "unchangable_tensor[0].assign(5)"
      ]
    },
    {
      "cell_type": "markdown",
      "metadata": {
        "id": "4KK3KQwqAi1w"
      },
      "source": [
        "#Note\n",
        "We don't need to create tensor for ourselves the tesnor flow algorithm does this for us in the backgroud.\n",
        "\n",
        "If needed use tf.constant() method and down the line **covert it as per need into variable**"
      ]
    },
    {
      "cell_type": "markdown",
      "metadata": {
        "id": "oWbDGbBSBITg"
      },
      "source": [
        "##Creating Random Tensors"
      ]
    },
    {
      "cell_type": "markdown",
      "metadata": {
        "id": "Cx4EJ8lxBV66"
      },
      "source": [
        "Random tensors are tensors of some abitrary size which contains random numbers"
      ]
    },
    {
      "cell_type": "code",
      "execution_count": null,
      "metadata": {
        "id": "AU1WtN4UFy3v"
      },
      "outputs": [],
      "source": [
        "# create two random tensor \n",
        "random_1 = tf.random.Generator.from_seed(42) # set seed for reproducibility\n",
        "random_1 =random_1.normal(shape=(3,2))\n",
        "random_1"
      ]
    },
    {
      "cell_type": "code",
      "execution_count": null,
      "metadata": {
        "id": "Up3SxMsvFwOj"
      },
      "outputs": [],
      "source": [
        "random_2 = tf.random.Generator.from_seed(42)\n",
        "random_2 = random_2.normal(shape=(3,2))\n",
        "random_2, random_1,random_1 == random_2   ## checking they are equal or not"
      ]
    },
    {
      "cell_type": "markdown",
      "metadata": {
        "id": "UlZHBJvyF-wL"
      },
      "source": [
        "Why we need to shuffel the input value ?\n",
        "\n",
        "\n",
        "To stop the ai model to get to habituated to only one type of input."
      ]
    },
    {
      "cell_type": "code",
      "execution_count": null,
      "metadata": {
        "id": "BhUpf1QwGh7D"
      },
      "outputs": [],
      "source": [
        "#shuffel a tensor (valuable if we want to shuffel the data, so that inheart data does not effect learing)\n",
        "not_shuffled = tf.constant([[10,7],[3,4],[5,6]])\n",
        "not_shuffled\n",
        "# shuffled our non-shuffled tensor\n",
        "tf.random.shuffle(not_shuffled)\n"
      ]
    },
    {
      "cell_type": "code",
      "execution_count": null,
      "metadata": {
        "id": "iH6Sr0ZsHgV9"
      },
      "outputs": [],
      "source": [
        "not_shuffled"
      ]
    },
    {
      "cell_type": "code",
      "execution_count": null,
      "metadata": {
        "id": "O4Jk7Kt9IBQ1"
      },
      "outputs": [],
      "source": [
        "#shuffel our non shuffled tensor\n",
        "tf.random.set_seed(42)   #globle level seed\n",
        "tf.random.shuffle(not_shuffled,seed =42) #operation level seed\n"
      ]
    },
    {
      "cell_type": "markdown",
      "metadata": {
        "id": "Ha9HSKTxJcTa"
      },
      "source": [
        "#**Exercise** : Read through random seed genration and write five random tensor and shuffel them "
      ]
    },
    {
      "cell_type": "markdown",
      "metadata": {
        "id": "pH2RcHzuHBg5"
      },
      "source": [
        "**Notes** : There are two types of seeds :-\n",
        "          1. operational level -- used for basic operatios \n",
        "          2. Global level - used at global level to generate \n",
        "\n",
        "if the seeds are not defined insode the code the tf will select a random code for the operation.\n",
        "**So,if the program to run depends on a specific seed we need to define the seed in the code.**\n",
        "\n",
        "#Global level Seed\n",
        "*tf.random.set_seed(Value)*   -- **Sets the  value of the global scalar**\n",
        "\n",
        "#Operational level seed\n",
        "*tf.random.shuffle(tensor_name, seed = Value)*  -- **operationla level seed**\n",
        "\n",
        "\n",
        ">Seeds provide the basics how to start the generation of the random variable if we use diffrent seeds the shuffleing or the generation will yeild different results.\n",
        "\n",
        "> **\"But to get reproducable randomness we need to set the global seed and the operational seed\"**"
      ]
    },
    {
      "cell_type": "code",
      "execution_count": null,
      "metadata": {
        "id": "E6sgFb34KvjQ"
      },
      "outputs": [],
      "source": [
        "from tensorflow.python.ops.variables import Variable\n",
        "#That is if we consider two tensors generated with two different seeds they will not match even if we have defined the same global tensor\n",
        "\n",
        "tf.random.set_seed(29)   #GLobal level tensor\n",
        "tensor_A = tf.Variable([4,2])     # Defining variable tensor\n",
        "tensor_B =tf.Variable([4,2])\n",
        "\n",
        "tensor_A = tf.random.uniform([4,2])   # Both the tensor generator have different operational level seeds because we do not have defined the seeds explictly.\n",
        "tensor_B = tf.random.uniform([4,2]) \n",
        "\n",
        "tensor_A == tensor_B"
      ]
    },
    {
      "cell_type": "code",
      "execution_count": null,
      "metadata": {
        "id": "8WzQBtqrNoVL"
      },
      "outputs": [],
      "source": [
        "# To generate tensor with same seed\n",
        "tensor_C = tf.Variable([4,2])\n",
        "tensor_D = tf.Variable([4,2])\n",
        "\n",
        "tensor_C = tf.random.uniform([4,2], seed = 42) #operational level tensor\n",
        "tensor_D = tf.random.uniform([4,2], seed =42)\n",
        "\n",
        "print(tensor_C)"
      ]
    },
    {
      "cell_type": "code",
      "execution_count": null,
      "metadata": {
        "id": "jap6NBMRQWa3"
      },
      "outputs": [],
      "source": [
        "print(tensor_D)\n",
        "# the global level seed and the operation level seed provide same tensor whenever it executed. \n",
        "# this will enable to produce reproducable tensors"
      ]
    },
    {
      "cell_type": "code",
      "execution_count": null,
      "metadata": {
        "id": "5EaIc8DxGFWk"
      },
      "outputs": [],
      "source": [
        "tensor_1 = tf.constant([[1,2],[3,4],[5,6],[7,8],[9,10],[11,12]])\n",
        "print(tensor_1)"
      ]
    },
    {
      "cell_type": "code",
      "execution_count": null,
      "metadata": {
        "id": "nmCAFzRvHXqE"
      },
      "outputs": [],
      "source": [
        "print(tf.random.shuffle(tensor_1, seed= 29)) # shuffeled tensor"
      ]
    },
    {
      "cell_type": "code",
      "execution_count": null,
      "metadata": {
        "id": "ye13ho53HYy0"
      },
      "outputs": [],
      "source": []
    },
    {
      "cell_type": "markdown",
      "metadata": {
        "id": "obcaEgIJG3gr"
      },
      "source": [
        "#Other ways of creating tensors"
      ]
    },
    {
      "cell_type": "code",
      "execution_count": null,
      "metadata": {
        "id": "xEQV3zzGG4CJ"
      },
      "outputs": [],
      "source": [
        "# tensor of all ones \n",
        "tf.ones([2,6])"
      ]
    },
    {
      "cell_type": "code",
      "execution_count": null,
      "metadata": {
        "id": "NtM4Xbr0G4V1"
      },
      "outputs": [],
      "source": [
        "# Tensors of all zeros \n",
        "tf.zeros(shape =(5,6))"
      ]
    },
    {
      "cell_type": "markdown",
      "metadata": {
        "id": "HdUW-hbVH5y7"
      },
      "source": [
        "### Turn Numpy arrays into tensors \n",
        "\n",
        ">The main difference between the Numpy arrys and tensorflow tensors is tensors can run on the GPUS( much faster for numerical computing) "
      ]
    },
    {
      "cell_type": "code",
      "execution_count": null,
      "metadata": {
        "id": "K70j_HyqHgAx"
      },
      "outputs": [],
      "source": [
        "# We can convert NUMpy array to tensors\n",
        "import numpy as np\n",
        "numpy_A =np.arange(1,25,dtype =np.int32) # creating numpy array between 1 and 25\n",
        "numpy_A\n",
        "# X = tf.constant(some_matrix) # capital for matrix or tensor\n",
        "# y =tf.constant(vector) # non-capital for vector\n"
      ]
    },
    {
      "cell_type": "code",
      "execution_count": null,
      "metadata": {
        "id": "rBOoaD5MKQ6h"
      },
      "outputs": [],
      "source": [
        "# The number of the element in the shape of the tensor must be equal to the numner of element being passed\n",
        "\n",
        "A = tf.constant(numpy_A, shape =(2,3,4))  # numpy arrays can directly be converted to tensors using this\n",
        "B = tf.constant(numpy_A)\n",
        "A,B"
      ]
    },
    {
      "cell_type": "code",
      "execution_count": null,
      "metadata": {
        "id": "HTt2O-LI_qn1"
      },
      "outputs": [],
      "source": []
    },
    {
      "cell_type": "code",
      "execution_count": null,
      "metadata": {
        "id": "uXxfO5yJLbVf"
      },
      "outputs": [],
      "source": [
        "A.ndim,B.ndim"
      ]
    },
    {
      "cell_type": "markdown",
      "metadata": {
        "id": "_6J8HKBbLtKJ"
      },
      "source": [
        "##Getting more information form tensors\n",
        "\n",
        "* Shape -- **tensor.shape**\n",
        "* Rank -- **tensor.ndim**\n",
        "* Axis or dimension -- A particular dimension of tensor -- **tensor[0],tensor[:,1]**\n",
        "* Size -- total number of element in the tensor -- **tf.size(tensor)**"
      ]
    },
    {
      "cell_type": "code",
      "execution_count": null,
      "metadata": {
        "id": "SrUIDYZ-A4mo"
      },
      "outputs": [],
      "source": [
        "# creating a rank 4 tensor \n",
        "rank_4_tensor = tf.zeros(shape=(1,2,3,4))\n",
        "rank_4_tensor"
      ]
    },
    {
      "cell_type": "code",
      "execution_count": null,
      "metadata": {
        "id": "4gap_YmBBqDP"
      },
      "outputs": [],
      "source": [
        "rank_4_tensor[0]"
      ]
    },
    {
      "cell_type": "code",
      "execution_count": null,
      "metadata": {
        "id": "_HQ5WtJQB2Zr"
      },
      "outputs": [],
      "source": [
        "rank_4_tensor.shape, rank_4_tensor.ndim , tf.size(rank_4_tensor)"
      ]
    },
    {
      "cell_type": "code",
      "execution_count": null,
      "metadata": {
        "id": "nSRHBhRyCdwt"
      },
      "outputs": [],
      "source": [
        "# Getting various attributes of our tensors\n",
        "print(\"data type of every element : \",rank_4_tensor.dtype)\n",
        "print(\"Number of dimensions (rank) : \", rank_4_tensor.ndim)\n",
        "print(\"Shape of tensor : \", rank_4_tensor.shape)\n",
        "print(\"Elements along the zero axis : \", rank_4_tensor.shape[0])\n",
        "print(\"Element along the last axis :\", rank_4_tensor.shape[-1])\n",
        "print(\"Total number of elements in our tensor : \", tf.size(rank_4_tensor).numpy()) \n",
        "# We can use *.numpy() method to convert the data into a single number\n"
      ]
    },
    {
      "cell_type": "markdown",
      "metadata": {
        "id": "3xtthIZACiIs"
      },
      "source": [
        "## Indexing and Expanding tensors\n",
        "Tensors can be index as python list."
      ]
    },
    {
      "cell_type": "code",
      "execution_count": null,
      "metadata": {
        "id": "EP5Q1y-YEwea"
      },
      "outputs": [],
      "source": [
        "# we wiil get first two element of each dimension\n",
        "\n",
        "rank_4_tensor[:2,:2,:2,:2]"
      ]
    },
    {
      "cell_type": "code",
      "execution_count": null,
      "metadata": {
        "id": "16iBIFFXFgml"
      },
      "outputs": [],
      "source": [
        "# Get first element from each dimension form each index except for final one\n",
        "rank_4_tensor[:1,:1,:1]"
      ]
    },
    {
      "cell_type": "code",
      "execution_count": null,
      "metadata": {
        "id": "Fl8DsLcYGLKg"
      },
      "outputs": [],
      "source": [
        "# Creating a rank 2 tensor \n",
        "rank2tensor = tf.constant([[2,3],[4,6]])\n",
        "rank2tensor.ndim,rank2tensor"
      ]
    },
    {
      "cell_type": "code",
      "execution_count": null,
      "metadata": {
        "id": "g6P0YTYTJT6m"
      },
      "outputs": [],
      "source": [
        "#Gettig the last element of each dimension\n",
        "\n",
        "rank2tensor[:,-1]"
      ]
    },
    {
      "cell_type": "code",
      "execution_count": null,
      "metadata": {
        "id": "-3Y6wAGzJylz"
      },
      "outputs": [],
      "source": [
        "# Adding in extra dimension in our rank 2 tensor\n",
        "\n",
        "rank_3_tensor = rank2tensor[...,tf.newaxis]\n",
        "rank_3_tensor"
      ]
    },
    {
      "cell_type": "code",
      "execution_count": null,
      "metadata": {
        "id": "WxFe6ikwK0e7"
      },
      "outputs": [],
      "source": [
        "#Altenative to tf.new axis i.e tf.expand\n",
        "rank2tensor,tf.expand_dims(rank2tensor ,axis = 2)"
      ]
    },
    {
      "cell_type": "markdown",
      "metadata": {
        "id": "vxOmugEfPAyy"
      },
      "source": [
        ">Adding the extra dimension only changes the the way the data is stored in the tensor it does not effect the actual data inside the tensor"
      ]
    },
    {
      "cell_type": "markdown",
      "metadata": {
        "id": "4Tu_Lu-WQKp_"
      },
      "source": [
        "### Mnupulating the tensors // Tensors operations\n",
        "\n",
        "**Basic Operations** \n",
        "+ ,_ , * , /"
      ]
    },
    {
      "cell_type": "code",
      "execution_count": null,
      "metadata": {
        "id": "EWgglY4cQRri"
      },
      "outputs": [],
      "source": [
        "#We can add values to a tensor by using addition operator\n",
        "tensor =tf.constant ([[2,3],[4,7]])\n",
        "tensor+10"
      ]
    },
    {
      "cell_type": "code",
      "execution_count": null,
      "metadata": {
        "id": "Vc4MEgFxQ1sB"
      },
      "outputs": [],
      "source": [
        "# we can multiply by utilising the builtin functions\n",
        "tf.multiply(tensor,10)"
      ]
    },
    {
      "cell_type": "markdown",
      "source": [
        "**Matrix Multiplication**\n",
        "\n",
        "In the tensor flow the matrix multiplication is one of the most common tensor operations."
      ],
      "metadata": {
        "id": "Y9thixRVJi89"
      }
    },
    {
      "cell_type": "markdown",
      "source": [
        "## Now we are going to use the tensor flow to predict the market"
      ],
      "metadata": {
        "id": "ex0Wn1n4ycv9"
      }
    },
    {
      "cell_type": "code",
      "source": [
        "!pip install pyttsx3   # For installing Python text to speech"
      ],
      "metadata": {
        "id": "QlH4n9PoxzRe"
      },
      "execution_count": null,
      "outputs": []
    },
    {
      "cell_type": "code",
      "source": [
        "!pip install nsetools"
      ],
      "metadata": {
        "id": "7kwqaGd3yfTD",
        "colab": {
          "base_uri": "https://localhost:8080/"
        },
        "outputId": "da516595-e7fa-447c-9cb3-7c9b53a9fd20"
      },
      "execution_count": null,
      "outputs": [
        {
          "output_type": "stream",
          "name": "stdout",
          "text": [
            "Looking in indexes: https://pypi.org/simple, https://us-python.pkg.dev/colab-wheels/public/simple/\n",
            "Requirement already satisfied: nsetools in /usr/local/lib/python3.8/dist-packages (1.0.11)\n",
            "Requirement already satisfied: six in /usr/local/lib/python3.8/dist-packages (from nsetools) (1.15.0)\n",
            "Requirement already satisfied: dateutils in /usr/local/lib/python3.8/dist-packages (from nsetools) (0.6.12)\n",
            "Requirement already satisfied: pytz in /usr/local/lib/python3.8/dist-packages (from dateutils->nsetools) (2022.6)\n",
            "Requirement already satisfied: python-dateutil in /usr/local/lib/python3.8/dist-packages (from dateutils->nsetools) (2.8.2)\n"
          ]
        }
      ]
    },
    {
      "cell_type": "code",
      "source": [
        "from nsetools import Nse\n"
      ],
      "metadata": {
        "id": "C15SdTjgFtF2"
      },
      "execution_count": null,
      "outputs": []
    },
    {
      "cell_type": "code",
      "source": [
        "market = Nse()"
      ],
      "metadata": {
        "id": "3tXiACArF2Rv"
      },
      "execution_count": null,
      "outputs": []
    },
    {
      "cell_type": "code",
      "source": [
        "all_stock_data_name = market.get_stock_codes()\n",
        "print(all_stock_data_name['AARON'])\n",
        "print(\"\")\n",
        "quote = market.get_quote('AARON')\n",
        "print(\"Current price is : \",quote['lastPrice'])\n",
        "quote"
      ],
      "metadata": {
        "colab": {
          "base_uri": "https://localhost:8080/"
        },
        "id": "V3pzaomrGIN4",
        "outputId": "f85afb90-4823-4406-992a-aead8d1b9782"
      },
      "execution_count": null,
      "outputs": [
        {
          "output_type": "stream",
          "name": "stdout",
          "text": [
            "Aaron Industries Limited\n",
            "\n",
            "Current price is :  171.5\n"
          ]
        },
        {
          "output_type": "execute_result",
          "data": {
            "text/plain": [
              "{'pricebandupper': 172.3,\n",
              " 'symbol': 'AARON',\n",
              " 'applicableMargin': 25.0,\n",
              " 'bcEndDate': '10-SEP-22',\n",
              " 'totalSellQuantity': None,\n",
              " 'adhocMargin': None,\n",
              " 'companyName': 'Aaron Industries Limited',\n",
              " 'marketType': 'N',\n",
              " 'exDate': '01-SEP-22',\n",
              " 'bcStartDate': '04-SEP-22',\n",
              " 'css_status_desc': 'Listed',\n",
              " 'dayHigh': 172.3,\n",
              " 'basePrice': 164.1,\n",
              " 'securityVar': 21.23,\n",
              " 'pricebandlower': 155.9,\n",
              " 'sellQuantity5': None,\n",
              " 'sellQuantity4': None,\n",
              " 'sellQuantity3': None,\n",
              " 'cm_adj_high_dt': '02-SEP-22',\n",
              " 'sellQuantity2': None,\n",
              " 'dayLow': 166.25,\n",
              " 'sellQuantity1': None,\n",
              " 'quantityTraded': 3816.0,\n",
              " 'pChange': 4.51,\n",
              " 'totalTradedValue': 9.01,\n",
              " 'deliveryToTradedQuantity': 75.5,\n",
              " 'totalBuyQuantity': 1.0,\n",
              " 'averagePrice': 170.16,\n",
              " 'indexVar': None,\n",
              " 'cm_ffm': 41.21,\n",
              " 'purpose': 'ANNUAL GENERAL MEETING/DIVIDEND - RS 0.80 PER SHARE',\n",
              " 'buyPrice2': None,\n",
              " 'secDate': '19-Dec-2022 15:00:00',\n",
              " 'buyPrice1': 171.1,\n",
              " 'high52': 207.8,\n",
              " 'previousClose': 164.1,\n",
              " 'ndEndDate': None,\n",
              " 'low52': 102.0,\n",
              " 'buyPrice4': None,\n",
              " 'buyPrice3': None,\n",
              " 'recordDate': None,\n",
              " 'deliveryQuantity': 2881.0,\n",
              " 'buyPrice5': None,\n",
              " 'priceBand': 5.0,\n",
              " 'extremeLossMargin': 3.5,\n",
              " 'cm_adj_low_dt': '20-DEC-21',\n",
              " 'varMargin': 21.5,\n",
              " 'sellPrice1': None,\n",
              " 'sellPrice2': None,\n",
              " 'totalTradedVolume': 5293.0,\n",
              " 'sellPrice3': None,\n",
              " 'sellPrice4': None,\n",
              " 'sellPrice5': None,\n",
              " 'change': 7.4,\n",
              " 'surv_indicator': None,\n",
              " 'ndStartDate': None,\n",
              " 'buyQuantity4': None,\n",
              " 'isExDateFlag': False,\n",
              " 'buyQuantity3': None,\n",
              " 'buyQuantity2': None,\n",
              " 'buyQuantity1': 1.0,\n",
              " 'series': 'EQ',\n",
              " 'faceValue': 10.0,\n",
              " 'buyQuantity5': None,\n",
              " 'closePrice': 0.0,\n",
              " 'open': 170.0,\n",
              " 'isinCode': 'INE721Z01010',\n",
              " 'lastPrice': 171.5}"
            ]
          },
          "metadata": {},
          "execution_count": 37
        }
      ]
    },
    {
      "cell_type": "code",
      "source": [
        "from nsetools import Nse\n",
        "market = Nse()\n",
        "\n",
        "name = input(\"Enter the name of the stock : \")\n",
        "\n",
        "if name == \"\":\n",
        "  name = \"infy\"\n",
        "\n",
        "if market.is_valid_code(name) == True :\n",
        "  quote = market.get_quote(name)\n",
        "  print(quote['companyName'])\n",
        "  print(\"Currrent price is : \", quote['lastPrice'])\n",
        "\n",
        "else :\n",
        "  print(\"The company code does not exist\")\n"
      ],
      "metadata": {
        "colab": {
          "base_uri": "https://localhost:8080/"
        },
        "id": "x3DP-ui_Ktlf",
        "outputId": "842ace81-c09a-4490-c22d-f156edd7e119"
      },
      "execution_count": null,
      "outputs": [
        {
          "output_type": "stream",
          "name": "stdout",
          "text": [
            "Enter the name of the stock : sbin\n",
            "State Bank of India\n",
            "Currrent price is :  605.5\n"
          ]
        }
      ]
    },
    {
      "cell_type": "code",
      "source": [],
      "metadata": {
        "id": "vq5CpItv95g7"
      },
      "execution_count": null,
      "outputs": []
    },
    {
      "cell_type": "code",
      "source": [
        "!pip install nsepy"
      ],
      "metadata": {
        "colab": {
          "base_uri": "https://localhost:8080/"
        },
        "id": "NkUUdjL4OBa8",
        "outputId": "f1b6e813-b34d-4d89-bf17-82f4d489814f"
      },
      "execution_count": null,
      "outputs": [
        {
          "output_type": "stream",
          "name": "stdout",
          "text": [
            "Looking in indexes: https://pypi.org/simple, https://us-python.pkg.dev/colab-wheels/public/simple/\n",
            "Collecting nsepy\n",
            "  Downloading nsepy-0.8.tar.gz (33 kB)\n",
            "Requirement already satisfied: beautifulsoup4 in /usr/local/lib/python3.8/dist-packages (from nsepy) (4.6.3)\n",
            "Requirement already satisfied: requests in /usr/local/lib/python3.8/dist-packages (from nsepy) (2.23.0)\n",
            "Requirement already satisfied: numpy in /usr/local/lib/python3.8/dist-packages (from nsepy) (1.21.6)\n",
            "Requirement already satisfied: pandas in /usr/local/lib/python3.8/dist-packages (from nsepy) (1.3.5)\n",
            "Requirement already satisfied: six in /usr/local/lib/python3.8/dist-packages (from nsepy) (1.15.0)\n",
            "Requirement already satisfied: click in /usr/local/lib/python3.8/dist-packages (from nsepy) (7.1.2)\n",
            "Requirement already satisfied: lxml in /usr/local/lib/python3.8/dist-packages (from nsepy) (4.9.2)\n",
            "Requirement already satisfied: pytz>=2017.3 in /usr/local/lib/python3.8/dist-packages (from pandas->nsepy) (2022.6)\n",
            "Requirement already satisfied: python-dateutil>=2.7.3 in /usr/local/lib/python3.8/dist-packages (from pandas->nsepy) (2.8.2)\n",
            "Requirement already satisfied: idna<3,>=2.5 in /usr/local/lib/python3.8/dist-packages (from requests->nsepy) (2.10)\n",
            "Requirement already satisfied: urllib3!=1.25.0,!=1.25.1,<1.26,>=1.21.1 in /usr/local/lib/python3.8/dist-packages (from requests->nsepy) (1.24.3)\n",
            "Requirement already satisfied: certifi>=2017.4.17 in /usr/local/lib/python3.8/dist-packages (from requests->nsepy) (2022.12.7)\n",
            "Requirement already satisfied: chardet<4,>=3.0.2 in /usr/local/lib/python3.8/dist-packages (from requests->nsepy) (3.0.4)\n",
            "Building wheels for collected packages: nsepy\n",
            "  Building wheel for nsepy (setup.py) ... \u001b[?25l\u001b[?25hdone\n",
            "  Created wheel for nsepy: filename=nsepy-0.8-py3-none-any.whl size=36085 sha256=e86f35de27131a2b5d7732f6cf6a6d8436ac665ae38cd0f1ace19c0cda76fcba\n",
            "  Stored in directory: /root/.cache/pip/wheels/b9/2c/cb/d74199e422a1dbc20297d10cfff9c54d03e0b5c6694d49ccdd\n",
            "Successfully built nsepy\n",
            "Installing collected packages: nsepy\n",
            "Successfully installed nsepy-0.8\n"
          ]
        }
      ]
    },
    {
      "cell_type": "code",
      "source": [
        "import nsepy as market\n",
        "symbol = \"SBIN\"\n",
        "series = \"EQ\"\n",
        "start_date = \"08-06-2021\"\n",
        "end_date =\"14-06-2021\"\n",
        "print(market.equity_history(symbol,series,start_date,end_date))"
      ],
      "metadata": {
        "colab": {
          "base_uri": "https://localhost:8080/",
          "height": 200
        },
        "id": "X4mFGKJviaYc",
        "outputId": "1bc6e099-4723-441b-9535-a72505271ad1"
      },
      "execution_count": null,
      "outputs": [
        {
          "output_type": "error",
          "ename": "AttributeError",
          "evalue": "ignored",
          "traceback": [
            "\u001b[0;31m---------------------------------------------------------------------------\u001b[0m",
            "\u001b[0;31mAttributeError\u001b[0m                            Traceback (most recent call last)",
            "\u001b[0;32m<ipython-input-33-625dd35fb1dc>\u001b[0m in \u001b[0;36m<module>\u001b[0;34m\u001b[0m\n\u001b[1;32m      4\u001b[0m \u001b[0mstart_date\u001b[0m \u001b[0;34m=\u001b[0m \u001b[0;34m\"08-06-2021\"\u001b[0m\u001b[0;34m\u001b[0m\u001b[0;34m\u001b[0m\u001b[0m\n\u001b[1;32m      5\u001b[0m \u001b[0mend_date\u001b[0m \u001b[0;34m=\u001b[0m\u001b[0;34m\"14-06-2021\"\u001b[0m\u001b[0;34m\u001b[0m\u001b[0;34m\u001b[0m\u001b[0m\n\u001b[0;32m----> 6\u001b[0;31m \u001b[0mprint\u001b[0m\u001b[0;34m(\u001b[0m\u001b[0mmarket\u001b[0m\u001b[0;34m.\u001b[0m\u001b[0mequity_history\u001b[0m\u001b[0;34m(\u001b[0m\u001b[0msymbol\u001b[0m\u001b[0;34m,\u001b[0m\u001b[0mseries\u001b[0m\u001b[0;34m,\u001b[0m\u001b[0mstart_date\u001b[0m\u001b[0;34m,\u001b[0m\u001b[0mend_date\u001b[0m\u001b[0;34m)\u001b[0m\u001b[0;34m)\u001b[0m\u001b[0;34m\u001b[0m\u001b[0;34m\u001b[0m\u001b[0m\n\u001b[0m",
            "\u001b[0;31mAttributeError\u001b[0m: module 'nsepy' has no attribute 'equity_history'"
          ]
        }
      ]
    },
    {
      "cell_type": "code",
      "source": [],
      "metadata": {
        "id": "OUpXHb_sqD1T"
      },
      "execution_count": null,
      "outputs": []
    }
  ],
  "metadata": {
    "accelerator": "TPU",
    "colab": {
      "provenance": [],
      "authorship_tag": "ABX9TyPqRN7T5gp2yeQrPXsZv7kx",
      "include_colab_link": true
    },
    "gpuClass": "standard",
    "kernelspec": {
      "display_name": "Python 3",
      "name": "python3"
    },
    "language_info": {
      "name": "python"
    }
  },
  "nbformat": 4,
  "nbformat_minor": 0
}